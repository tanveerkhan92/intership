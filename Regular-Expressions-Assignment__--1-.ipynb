{
 "cells": [
  {
   "cell_type": "code",
   "execution_count": 1,
   "id": "de81a646-f8ce-4c50-ad9f-b9411c641e05",
   "metadata": {
    "tags": []
   },
   "outputs": [],
   "source": [
    "import re\n",
    "import pandas as pd"
   ]
  },
  {
   "cell_type": "code",
   "execution_count": 142,
   "id": "6f768f4c-7c01-4cfc-9f5f-2351c9f2adab",
   "metadata": {
    "tags": []
   },
   "outputs": [
    {
     "name": "stdout",
     "output_type": "stream",
     "text": [
      "Python:Exercises::PHP:exercises:\n"
     ]
    }
   ],
   "source": [
    "#Q1\n",
    "\n",
    "text = 'Python Exercises, PHP exercises.'\n",
    "result= re.sub(\"[\\s,.]\",\":\",text)\n",
    "print(result)"
   ]
  },
  {
   "cell_type": "code",
   "execution_count": 143,
   "id": "e2e0f453-eff5-46bd-978b-4388b6bca850",
   "metadata": {
    "tags": []
   },
   "outputs": [
    {
     "data": {
      "text/plain": [
       "{'SUMMARY': ['hello, world!', 'XXXXX test', '123four, five:; six...']}"
      ]
     },
     "execution_count": 143,
     "metadata": {},
     "output_type": "execute_result"
    }
   ],
   "source": [
    "#Q2\n",
    "\n",
    "Dictionary= {'SUMMARY' : ['hello, world!', 'XXXXX test', '123four, five:; six...']}\n",
    "Dictionary"
   ]
  },
  {
   "cell_type": "code",
   "execution_count": 8,
   "id": "142aac7a-d1b6-4766-97dd-d7e4cb8c659d",
   "metadata": {
    "tags": []
   },
   "outputs": [
    {
     "data": {
      "text/plain": [
       "'hello, world!'"
      ]
     },
     "execution_count": 8,
     "metadata": {},
     "output_type": "execute_result"
    }
   ],
   "source": [
    "Dictionary['SUMMARY']"
   ]
  },
  {
   "cell_type": "code",
   "execution_count": null,
   "id": "709866cc-7e6f-4ab7-9d21-162f6371d291",
   "metadata": {
    "tags": []
   },
   "outputs": [],
   "source": []
  },
  {
   "cell_type": "code",
   "execution_count": 144,
   "id": "de2e7a01-e9d9-4cbb-b45b-0f73792446c0",
   "metadata": {},
   "outputs": [],
   "source": [
    "#Q3\n",
    "\n",
    "import regex as re\n",
    "\n",
    "def function(string):\n",
    "    pattern = \"\\w{4,}\"\n",
    "    p = re.compile(pattern)\n",
    "    r= p.findall(string)\n",
    "    print(r)\n"
   ]
  },
  {
   "cell_type": "code",
   "execution_count": 30,
   "id": "44ee3ccc-b833-48de-b644-ad601487ce01",
   "metadata": {
    "tags": []
   },
   "outputs": [
    {
     "name": "stdout",
     "output_type": "stream",
     "text": [
      "['Lenovo', 'chinease', 'brand']\n"
     ]
    }
   ],
   "source": [
    "function(\"Lenovo is the chinease brand\")"
   ]
  },
  {
   "cell_type": "code",
   "execution_count": 3,
   "id": "44fa2242-c97f-43b6-923c-5f22e1c1b55b",
   "metadata": {
    "tags": []
   },
   "outputs": [],
   "source": [
    "#Q4\n",
    "\n",
    "import regex as re\n",
    "\n",
    "def function(string):\n",
    "    pattern = \"\\w{3,5}\"\n",
    "    p = re.compile(pattern)\n",
    "    r= p.findall(string)\n",
    "    print(r)\n"
   ]
  },
  {
   "cell_type": "code",
   "execution_count": 38,
   "id": "7aad0bd1-6995-43c6-a1bb-d38a0c47dfb5",
   "metadata": {
    "tags": []
   },
   "outputs": [
    {
     "name": "stdout",
     "output_type": "stream",
     "text": [
      "['Lenov', 'the', 'chine', 'ase', 'brand']\n"
     ]
    }
   ],
   "source": [
    "function(\"Lenovo is the chinease brand\")"
   ]
  },
  {
   "cell_type": "code",
   "execution_count": 60,
   "id": "e58e93d7-a13b-4d4e-813f-6dc791e66c12",
   "metadata": {
    "tags": []
   },
   "outputs": [
    {
     "name": "stdout",
     "output_type": "stream",
     "text": [
      "example .com\n",
      "hr@fliprobo .com\n",
      "github .com\n",
      "Hello Data Science World\n",
      "Data Scientist\n"
     ]
    }
   ],
   "source": [
    "#Q5\n",
    "\n",
    "text= [\"example (.com)\", \"hr@fliprobo (.com)\", \"github (.com)\", \"Hello (Data Science World)\", \"Data (Scientist)\"]\n",
    "for m in text:\n",
    "    r= re.sub(r\"[()]\",\"\",m)\n",
    "    print(r)"
   ]
  },
  {
   "cell_type": "code",
   "execution_count": 147,
   "id": "824ade65-09fa-408a-96e9-164c36dd3c6b",
   "metadata": {
    "tags": []
   },
   "outputs": [
    {
     "name": "stdout",
     "output_type": "stream",
     "text": [
      "example \n",
      "hr@fliprobo \n",
      "github \n",
      "Hello \n",
      "Data \n"
     ]
    }
   ],
   "source": [
    "#Q6\n",
    "text= [\"example (.com)\", \"hr@fliprobo (.com)\", \"github (.com)\", \"Hello (Data Science World)\", \"Data (Scientist)\"]\n",
    "for m in text:\n",
    "    r= re.sub( r\"\\(.*\\)\",\"\",m)\n",
    "    print(r) \n"
   ]
  },
  {
   "cell_type": "code",
   "execution_count": 16,
   "id": "157c358d-2683-4ce0-877f-fbc322751cca",
   "metadata": {
    "tags": []
   },
   "outputs": [
    {
     "data": {
      "text/plain": [
       "['Importance', 'Of', 'Regular', 'Expressions', 'In', 'Python']"
      ]
     },
     "execution_count": 16,
     "metadata": {},
     "output_type": "execute_result"
    }
   ],
   "source": [
    "#Q7\n",
    "\n",
    "text = \"ImportanceOfRegularExpressionsInPython\"\n",
    "re.findall(\"[A-Z][^A-Z]*\",text)"
   ]
  },
  {
   "cell_type": "code",
   "execution_count": 31,
   "id": "77f7ee2e-2aef-4457-9472-3bde88a98961",
   "metadata": {},
   "outputs": [
    {
     "data": {
      "text/plain": [
       "'RegularExpression1 IsAn2 ImportantTopic3 InPython'"
      ]
     },
     "execution_count": 31,
     "metadata": {},
     "output_type": "execute_result"
    }
   ],
   "source": [
    "#Q8\n",
    "\n",
    "text= \"RegularExpression1IsAn2ImportantTopic3InPython\"\n",
    "\n",
    "re.sub(r\"(\\d+)([A-Za-z]+)\",r\"\\1 \\2\",text)"
   ]
  },
  {
   "cell_type": "code",
   "execution_count": 32,
   "id": "b40872df-0146-47b8-9152-6a0b9100667c",
   "metadata": {
    "tags": []
   },
   "outputs": [
    {
     "data": {
      "text/plain": [
       "['VqTQRPcSlq', 'IQ2SU04uMl', 'G6bCLdZ1HZ']"
      ]
     },
     "execution_count": 32,
     "metadata": {},
     "output_type": "execute_result"
    }
   ],
   "source": [
    "text= \"VqTQRPcSlq IQ2SU04uMl G6bCLdZ1HZ\"\n",
    "re.findall(\"\\w+\", text)"
   ]
  },
  {
   "cell_type": "code",
   "execution_count": 46,
   "id": "0f290c01-df2a-4e55-a225-c3fca8e4cb14",
   "metadata": {
    "tags": []
   },
   "outputs": [
    {
     "name": "stdout",
     "output_type": "stream",
     "text": [
      "<regex.Match object; span=(0, 11), match='7VqTQRPcSlq'>\n",
      "None\n",
      "<regex.Match object; span=(0, 11), match='9G6bCLdZ1HZ'>\n"
     ]
    }
   ],
   "source": [
    "text = [\"7VqTQRPcSlq\" ,\"IQ2SU04uMl\" ,\"9G6bCLdZ1HZ\"]\n",
    "for m in text:\n",
    "    r= re.search(r\"(^\\d+\\w+)\", m)\n",
    "    print(r)\n",
    "    \n"
   ]
  },
  {
   "cell_type": "code",
   "execution_count": 54,
   "id": "87fbf755-0bcb-4a4b-9d74-d88ea633bbcf",
   "metadata": {
    "tags": []
   },
   "outputs": [
    {
     "data": {
      "text/plain": [
       "'125.001.087.210'"
      ]
     },
     "execution_count": 54,
     "metadata": {},
     "output_type": "execute_result"
    }
   ],
   "source": [
    "ip = \"125.001.087.210\"\n",
    "re.sub(\".\\[0]*\",\".\",ip)"
   ]
  },
  {
   "cell_type": "code",
   "execution_count": 68,
   "id": "f271b6c8-f209-4f27-bd80-eab99af726c0",
   "metadata": {
    "tags": []
   },
   "outputs": [
    {
     "data": {
      "text/plain": [
       "['August 15th 1947']"
      ]
     },
     "execution_count": 68,
     "metadata": {},
     "output_type": "execute_result"
    }
   ],
   "source": [
    "text = \"On August 15th 1947 that India was declared independent from British colonialism, and the reins of control were handed over to the leaders of the Country\"\n",
    "re.findall(r\"\\b[A-Z][a-z]+ \\d{1,2}[a-z]* \\d{1,4}\", text)"
   ]
  },
  {
   "cell_type": "code",
   "execution_count": 77,
   "id": "b97e7775-e2bd-4ac0-8753-11facb79acc5",
   "metadata": {
    "tags": []
   },
   "outputs": [
    {
     "name": "stdout",
     "output_type": "stream",
     "text": [
      "fox\n",
      "dog\n"
     ]
    }
   ],
   "source": [
    "text = 'The quick brown fox jumps over the lazy dog.'\n",
    "r = re.finditer(r\"fox|dog|horse\", text)\n",
    "for m in r: \n",
    "    print(m.group())\n",
    "    "
   ]
  },
  {
   "cell_type": "code",
   "execution_count": 78,
   "id": "531b135e-dc8d-45f2-84cd-e4b8fdc01a26",
   "metadata": {
    "tags": []
   },
   "outputs": [
    {
     "name": "stdout",
     "output_type": "stream",
     "text": [
      "<regex.Match object; span=(16, 19), match='fox'>\n"
     ]
    }
   ],
   "source": [
    "text = 'The quick brown fox jumps over the lazy dog.'\n",
    "r = re.finditer(r\"fox\", text)\n",
    "for m in r: \n",
    "    print(m)\n"
   ]
  },
  {
   "cell_type": "code",
   "execution_count": 80,
   "id": "13a9deb3-256d-4137-a867-9b90e1f7fe92",
   "metadata": {
    "tags": []
   },
   "outputs": [
    {
     "name": "stdout",
     "output_type": "stream",
     "text": [
      "['exercises', 'exercises', 'exercises']\n"
     ]
    }
   ],
   "source": [
    "text = 'Python exercises, PHP exercises, C# exercises'\n",
    "pattern = 'exercises'\n",
    "p = re.compile(pattern)\n",
    "m = p.findall(text)\n",
    "print(m)"
   ]
  },
  {
   "cell_type": "code",
   "execution_count": 83,
   "id": "a0edd023-3305-4073-80cd-dfe152638a82",
   "metadata": {
    "tags": []
   },
   "outputs": [
    {
     "name": "stdout",
     "output_type": "stream",
     "text": [
      "<regex.Match object; span=(7, 16), match='exercises'>\n",
      "<regex.Match object; span=(22, 31), match='exercises'>\n",
      "<regex.Match object; span=(36, 45), match='exercises'>\n"
     ]
    }
   ],
   "source": [
    "text = 'Python exercises, PHP exercises, C# exercises'\n",
    "pattern = 'exercises'\n",
    "p = re.compile(pattern)\n",
    "m = p.finditer(text)\n",
    "for q in m: \n",
    "    print(q)\n"
   ]
  },
  {
   "cell_type": "code",
   "execution_count": 86,
   "id": "efb451c2-9440-4e52-807d-925d54bda87d",
   "metadata": {
    "tags": []
   },
   "outputs": [
    {
     "name": "stdout",
     "output_type": "stream",
     "text": [
      "['01.12', '145.8', '3.01', '27.25', '0.25']\n"
     ]
    }
   ],
   "source": [
    "text = \"01.12 0132.123 2.31875 145.8 3.01 27.25 0.25\"\n",
    "pattern = r'\\b\\d+\\.\\d{1,2}\\b'\n",
    "m= re.findall(pattern, text)\n",
    "print(m)"
   ]
  },
  {
   "cell_type": "code",
   "execution_count": 88,
   "id": "9850061a-8588-4dca-ad65-546c81037be8",
   "metadata": {
    "tags": []
   },
   "outputs": [
    {
     "name": "stdout",
     "output_type": "stream",
     "text": [
      "123  position 6\n",
      "456  position 16\n",
      "789  position 21\n"
     ]
    }
   ],
   "source": [
    "text = \"Hello 123 World 456! 789\"\n",
    "r = re.finditer(r\"\\d+\", text)\n",
    "for m in r:\n",
    "    print(m.group(),\" position\", m.start())\n"
   ]
  },
  {
   "cell_type": "code",
   "execution_count": 97,
   "id": "50c8e1c2-3f88-4056-a2b9-dada8e739383",
   "metadata": {
    "tags": []
   },
   "outputs": [
    {
     "name": "stdout",
     "output_type": "stream",
     "text": [
      "['947', '896', '926', '524', '734', '950', '642']\n",
      "950\n",
      "<class 'list'>\n"
     ]
    }
   ],
   "source": [
    "text = 'My marks in each semester are: 947, 896, 926, 524, 734, 950, 642'\n",
    "result = re.findall(r\"\\d+\", text)\n",
    "print(result)\n",
    "integer = map(int, result)\n",
    "print(max(integer))\n",
    "\n"
   ]
  },
  {
   "cell_type": "code",
   "execution_count": 112,
   "id": "640a7ba0-bf11-43fb-a6d6-d040c2887a0f",
   "metadata": {
    "tags": []
   },
   "outputs": [
    {
     "data": {
      "text/plain": [
       "'Regular Expression Is An Important Topic In Python'"
      ]
     },
     "execution_count": 112,
     "metadata": {},
     "output_type": "execute_result"
    }
   ],
   "source": [
    "text = \"RegularExpressionIsAnImportantTopicInPython\"\n",
    "re.sub(r\"(\\w)([A-Z])\",r\"\\1 \\2\", text)"
   ]
  },
  {
   "cell_type": "code",
   "execution_count": 114,
   "id": "1bc7ba99-bbe5-40d7-a8e9-d15bd34eb7ab",
   "metadata": {
    "tags": []
   },
   "outputs": [
    {
     "data": {
      "text/plain": [
       "['Lenovo', 'China']"
      ]
     },
     "execution_count": 114,
     "metadata": {},
     "output_type": "execute_result"
    }
   ],
   "source": [
    "text = \"Lenovo China\"\n",
    "re.findall(\"[A-Z][a-z]+\", text)"
   ]
  },
  {
   "cell_type": "code",
   "execution_count": 115,
   "id": "ca72f8ce-aac8-4c78-8381-3366c36b9c51",
   "metadata": {
    "tags": []
   },
   "outputs": [
    {
     "data": {
      "text/plain": [
       "'Hello hello world'"
      ]
     },
     "execution_count": 115,
     "metadata": {},
     "output_type": "execute_result"
    }
   ],
   "source": [
    "text =  \"Hello hello world world\"\n",
    "regex = r\"\\b(\\w+)(?:\\W+\\1\\b)+\"\n",
    "\n",
    "re.sub(regex, r\"\\1\",text )"
   ]
  },
  {
   "cell_type": "code",
   "execution_count": 117,
   "id": "4a471d1f-c48f-4be0-8b01-a6cef84146ed",
   "metadata": {
    "tags": []
   },
   "outputs": [
    {
     "data": {
      "text/plain": [
       "['5bVdWBd']"
      ]
     },
     "execution_count": 117,
     "metadata": {},
     "output_type": "execute_result"
    }
   ],
   "source": [
    "text = \"Lenovo 5bVdWBd\"\n",
    "re.findall(\"\\w+$\", text)"
   ]
  },
  {
   "cell_type": "code",
   "execution_count": 125,
   "id": "10025762-842a-4fd4-9e15-4abb83bd8841",
   "metadata": {
    "tags": []
   },
   "outputs": [
    {
     "data": {
      "text/plain": [
       "['#Doltiwal', '#xyzabc', '#Demonetization']"
      ]
     },
     "execution_count": 125,
     "metadata": {},
     "output_type": "execute_result"
    }
   ],
   "source": [
    "text =  \"\"\"RT @kapil_kausik: #Doltiwal I mean #xyzabc is \"hurt\" by #Demonetization as the same has rendered \n",
    "         USELESS <ed><U+00A0><U+00BD><ed><U+00B1><U+0089> \"acquired funds\" No wo\"\"\"\n",
    "\n",
    "re.findall(r\"#\\w+\", text)"
   ]
  },
  {
   "cell_type": "code",
   "execution_count": 136,
   "id": "eb7d8939-161d-4c2b-802e-1c3ab34dfe9f",
   "metadata": {
    "tags": []
   },
   "outputs": [
    {
     "name": "stdout",
     "output_type": "stream",
     "text": [
      "@Jags123456 Bharat band on 28??<ed><U+00A0><U+00BD><ed><U+00B8><U+0082>Those who  are protesting #demonetization  are all different party leaders\n"
     ]
    }
   ],
   "source": [
    "text = \"@Jags123456 Bharat band on 28??<ed><U+00A0><U+00BD><ed><U+00B8><U+0082>Those who  are protesting #demonetization  are all different party leaders\"\n",
    "\n",
    "r= re.sub(\n",
    "print(r)"
   ]
  },
  {
   "cell_type": "code",
   "execution_count": 141,
   "id": "394bbe43-bc92-4391-9f92-c13a95bffc62",
   "metadata": {
    "tags": []
   },
   "outputs": [
    {
     "name": "stdout",
     "output_type": "stream",
     "text": [
      "['12-09-1992', '15-12-1999']\n"
     ]
    }
   ],
   "source": [
    "file = open(\"sample.txt\",'r')\n",
    "text = file.read()\n",
    "result = re.findall(r\"\\d{2}-\\d{2}-\\d{4}\", text)\n",
    "print(result)"
   ]
  },
  {
   "cell_type": "code",
   "execution_count": null,
   "id": "5a9714af-f31c-4e28-b41c-ecc567c8fab7",
   "metadata": {},
   "outputs": [],
   "source": []
  }
 ],
 "metadata": {
  "kernelspec": {
   "display_name": "Python 3 (ipykernel)",
   "language": "python",
   "name": "python3"
  },
  "language_info": {
   "codemirror_mode": {
    "name": "ipython",
    "version": 3
   },
   "file_extension": ".py",
   "mimetype": "text/x-python",
   "name": "python",
   "nbconvert_exporter": "python",
   "pygments_lexer": "ipython3",
   "version": "3.11.5"
  }
 },
 "nbformat": 4,
 "nbformat_minor": 5
}
