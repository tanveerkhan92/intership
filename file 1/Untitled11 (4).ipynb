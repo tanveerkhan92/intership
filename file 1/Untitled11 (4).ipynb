{
 "cells": [
  {
   "cell_type": "code",
   "execution_count": 1,
   "id": "50bf280b-9922-4199-9241-d6bec5212233",
   "metadata": {
    "tags": []
   },
   "outputs": [],
   "source": [
    "import selenium\n",
    "from selenium import webdriver\n",
    "from selenium.webdriver.common.by import By\n",
    "import pandas as pd\n",
    "import time\n",
    "from bs4 import BeautifulSoup\n",
    "from selenium.common.exceptions import StaleElementReferenceException, NoSuchElementException\n",
    "import requests"
   ]
  },
  {
   "cell_type": "code",
   "execution_count": 2,
   "id": "dcef40df-2348-480c-8a99-c0cfbea07c2a",
   "metadata": {
    "tags": []
   },
   "outputs": [],
   "source": [
    "driver = webdriver.Chrome()"
   ]
  },
  {
   "cell_type": "code",
   "execution_count": 3,
   "id": "226cd66c-a852-4245-893a-fe24f542c6be",
   "metadata": {
    "tags": []
   },
   "outputs": [],
   "source": [
    "driver.get('https://www.amazon.in/')"
   ]
  },
  {
   "cell_type": "code",
   "execution_count": 5,
   "id": "1bbddb82-5a97-425e-8795-a6647b4a8b17",
   "metadata": {
    "tags": []
   },
   "outputs": [],
   "source": [
    "search = driver.find_element(By.XPATH,'/html/body/div[1]/header/div/div[1]/div[2]/div/form/div[2]/div[1]/input')\n",
    "search.send_keys('guitar')"
   ]
  },
  {
   "cell_type": "code",
   "execution_count": 6,
   "id": "2993e33d-c379-4450-a86f-e04f9659489e",
   "metadata": {
    "tags": []
   },
   "outputs": [],
   "source": [
    "submit = driver.find_element(By.XPATH,'/html/body/div[1]/header/div/div[1]/div[2]/div/form/div[3]/div/span/input')\n",
    "submit.click()"
   ]
  },
  {
   "cell_type": "code",
   "execution_count": 8,
   "id": "efc712c5-0d89-4bd5-9d83-f8d150b63666",
   "metadata": {
    "tags": []
   },
   "outputs": [],
   "source": [
    "guitar_url=[]\n",
    "for page in range(0,3):\n",
    "    url= driver.find_elements(By.XPATH,'//a[@class=\"a-link-normal s-underline-text s-underline-link-text s-link-style a-text-normal\"]')\n",
    "    for i in url:\n",
    "        guitar_url.append(i.get_attribute('href'))\n",
    "    next= driver.find_element(By.XPATH,'/html/body/div[1]/div[1]/div[1]/div[1]/div/span[1]/div[1]/div[67]/div/div/span/a[3]')\n",
    "    "
   ]
  },
  {
   "cell_type": "code",
   "execution_count": 9,
   "id": "5cffefab-d339-4886-99e0-2fc11fb359b8",
   "metadata": {
    "tags": []
   },
   "outputs": [
    {
     "data": {
      "text/plain": [
       "186"
      ]
     },
     "execution_count": 9,
     "metadata": {},
     "output_type": "execute_result"
    }
   ],
   "source": [
    "len(guitar_url)"
   ]
  },
  {
   "cell_type": "code",
   "execution_count": 10,
   "id": "63624a82-674a-4a69-9688-4266672437f6",
   "metadata": {
    "tags": []
   },
   "outputs": [],
   "source": [
    "brand=[]\n",
    "for i in guitar_url:\n",
    "    driver.get(i)\n",
    "    time.sleep(5)\n",
    "    try:\n",
    "        name= driver.find_element(By.CLASS_NAME,'a-size-base po-break-word')\n",
    "        brand.append(name.text)\n",
    "    except NoSuchElementException:\n",
    "        brand.append('!!!!!Not Present!!!!!')\n",
    "    "
   ]
  },
  {
   "cell_type": "code",
   "execution_count": 11,
   "id": "acb83280-2f05-4836-9441-b02002619f87",
   "metadata": {
    "tags": []
   },
   "outputs": [],
   "source": [
    "df=pd.DataFrame({'Brand Name':brand})"
   ]
  },
  {
   "cell_type": "code",
   "execution_count": 12,
   "id": "ed44b3f4-15e5-4c97-9618-10b748278341",
   "metadata": {
    "tags": []
   },
   "outputs": [
    {
     "data": {
      "text/html": [
       "<div>\n",
       "<style scoped>\n",
       "    .dataframe tbody tr th:only-of-type {\n",
       "        vertical-align: middle;\n",
       "    }\n",
       "\n",
       "    .dataframe tbody tr th {\n",
       "        vertical-align: top;\n",
       "    }\n",
       "\n",
       "    .dataframe thead th {\n",
       "        text-align: right;\n",
       "    }\n",
       "</style>\n",
       "<table border=\"1\" class=\"dataframe\">\n",
       "  <thead>\n",
       "    <tr style=\"text-align: right;\">\n",
       "      <th></th>\n",
       "      <th>Brand Name</th>\n",
       "    </tr>\n",
       "  </thead>\n",
       "  <tbody>\n",
       "    <tr>\n",
       "      <th>0</th>\n",
       "      <td>!!!!!Not Present!!!!!</td>\n",
       "    </tr>\n",
       "    <tr>\n",
       "      <th>1</th>\n",
       "      <td>!!!!!Not Present!!!!!</td>\n",
       "    </tr>\n",
       "    <tr>\n",
       "      <th>2</th>\n",
       "      <td>!!!!!Not Present!!!!!</td>\n",
       "    </tr>\n",
       "    <tr>\n",
       "      <th>3</th>\n",
       "      <td>!!!!!Not Present!!!!!</td>\n",
       "    </tr>\n",
       "    <tr>\n",
       "      <th>4</th>\n",
       "      <td>!!!!!Not Present!!!!!</td>\n",
       "    </tr>\n",
       "    <tr>\n",
       "      <th>...</th>\n",
       "      <td>...</td>\n",
       "    </tr>\n",
       "    <tr>\n",
       "      <th>181</th>\n",
       "      <td>!!!!!Not Present!!!!!</td>\n",
       "    </tr>\n",
       "    <tr>\n",
       "      <th>182</th>\n",
       "      <td>!!!!!Not Present!!!!!</td>\n",
       "    </tr>\n",
       "    <tr>\n",
       "      <th>183</th>\n",
       "      <td>!!!!!Not Present!!!!!</td>\n",
       "    </tr>\n",
       "    <tr>\n",
       "      <th>184</th>\n",
       "      <td>!!!!!Not Present!!!!!</td>\n",
       "    </tr>\n",
       "    <tr>\n",
       "      <th>185</th>\n",
       "      <td>!!!!!Not Present!!!!!</td>\n",
       "    </tr>\n",
       "  </tbody>\n",
       "</table>\n",
       "<p>186 rows × 1 columns</p>\n",
       "</div>"
      ],
      "text/plain": [
       "                Brand Name\n",
       "0    !!!!!Not Present!!!!!\n",
       "1    !!!!!Not Present!!!!!\n",
       "2    !!!!!Not Present!!!!!\n",
       "3    !!!!!Not Present!!!!!\n",
       "4    !!!!!Not Present!!!!!\n",
       "..                     ...\n",
       "181  !!!!!Not Present!!!!!\n",
       "182  !!!!!Not Present!!!!!\n",
       "183  !!!!!Not Present!!!!!\n",
       "184  !!!!!Not Present!!!!!\n",
       "185  !!!!!Not Present!!!!!\n",
       "\n",
       "[186 rows x 1 columns]"
      ]
     },
     "execution_count": 12,
     "metadata": {},
     "output_type": "execute_result"
    }
   ],
   "source": [
    "df"
   ]
  },
  {
   "cell_type": "code",
   "execution_count": 24,
   "id": "0f5aa0cd-be9e-47ef-afa9-b30123d26dda",
   "metadata": {
    "tags": []
   },
   "outputs": [],
   "source": [
    "import selenium\n",
    "from selenium import webdriver\n",
    "from selenium.webdriver.common.by import By\n",
    "import warnings\n",
    "warnings.filterwarnings('ignore')\n",
    "from bs4 import BeautifulSoup\n",
    "from selenium.common.exceptions import StaleElementReferenceException, NoSuchElementException\n",
    "import requests"
   ]
  },
  {
   "cell_type": "code",
   "execution_count": 25,
   "id": "6e798c65-e655-413e-85c8-cd5a7fc39074",
   "metadata": {
    "tags": []
   },
   "outputs": [],
   "source": [
    "driver = webdriver.Chrome()"
   ]
  },
  {
   "cell_type": "code",
   "execution_count": 26,
   "id": "684054fc-f179-4ea6-827e-a47284c2362b",
   "metadata": {
    "tags": []
   },
   "outputs": [],
   "source": [
    "driver.get('https://images.google.com/')"
   ]
  },
  {
   "cell_type": "code",
   "execution_count": 27,
   "id": "5e937184-639c-44a2-980f-e709cc3f4d51",
   "metadata": {
    "tags": []
   },
   "outputs": [],
   "source": [
    "search= driver.find_element(By.XPATH,'/html/body/div[1]/div[3]/form/div[1]/div[1]/div[1]/div/div[2]/textarea')\n",
    "search.send_keys('fruits')"
   ]
  },
  {
   "cell_type": "code",
   "execution_count": 31,
   "id": "ea4702b9-0e62-417c-88db-3c89bb095da0",
   "metadata": {
    "tags": []
   },
   "outputs": [],
   "source": [
    "submit = driver.find_element(By.XPATH,'/html/body/div[1]/div[3]/form/div[1]/div[1]/div[1]/button/div/span')\n",
    "submit.click()"
   ]
  },
  {
   "cell_type": "code",
   "execution_count": 32,
   "id": "a5f9c8da-fab3-4bc2-97db-0ed2ac9ff28b",
   "metadata": {
    "tags": []
   },
   "outputs": [],
   "source": [
    "image=[]\n",
    "ima= driver.find_elements(By.XPATH,'//g-img[@class=\"tb08Pd\"]/img')\n",
    "for i in ima:\n",
    "    image.append(i.get_attribute('src'))\n"
   ]
  },
  {
   "cell_type": "code",
   "execution_count": 35,
   "id": "86a3aa97-57dd-4325-8b3a-0e6084961ffc",
   "metadata": {
    "tags": []
   },
   "outputs": [],
   "source": [
    "search1= driver.find_element(By.XPATH,'/html/body/div[2]/div[2]/form/div[1]/div[1]/div[2]/div/div[2]/textarea')\n",
    "search1.clear()\n",
    "search1.send_keys('car')"
   ]
  },
  {
   "cell_type": "code",
   "execution_count": 36,
   "id": "cc2dea21-80bf-44b1-910d-fdaf085f5a41",
   "metadata": {
    "tags": []
   },
   "outputs": [],
   "source": [
    "submit1 = driver.find_element(By.XPATH,'/html/body/div[2]/div[2]/form/div[1]/div[1]/div[2]/button/div/span')\n",
    "submit1.click()"
   ]
  },
  {
   "cell_type": "code",
   "execution_count": 40,
   "id": "fef8ed82-d844-4da7-94f2-ee23f12a7705",
   "metadata": {
    "tags": []
   },
   "outputs": [],
   "source": [
    "imagecar=[]\n",
    "im = driver.find_elements(By.XPATH,'//g-img[@class=\"mNsIhb\"]/img')\n",
    "for i in im:\n",
    "    imagecar.append(i.get_attribute('src'))"
   ]
  },
  {
   "cell_type": "code",
   "execution_count": 42,
   "id": "14e1b8f9-ee07-46ea-bcb7-7e6da04dfd05",
   "metadata": {
    "tags": []
   },
   "outputs": [],
   "source": [
    "df=pd.DataFrame({'Fruit':image[:20],'Car':imagecar[:20]})"
   ]
  },
  {
   "cell_type": "code",
   "execution_count": 43,
   "id": "b08b7856-631a-4490-add4-f09031ca266a",
   "metadata": {
    "tags": []
   },
   "outputs": [
    {
     "data": {
      "text/html": [
       "<div>\n",
       "<style scoped>\n",
       "    .dataframe tbody tr th:only-of-type {\n",
       "        vertical-align: middle;\n",
       "    }\n",
       "\n",
       "    .dataframe tbody tr th {\n",
       "        vertical-align: top;\n",
       "    }\n",
       "\n",
       "    .dataframe thead th {\n",
       "        text-align: right;\n",
       "    }\n",
       "</style>\n",
       "<table border=\"1\" class=\"dataframe\">\n",
       "  <thead>\n",
       "    <tr style=\"text-align: right;\">\n",
       "      <th></th>\n",
       "      <th>Fruit</th>\n",
       "      <th>Car</th>\n",
       "    </tr>\n",
       "  </thead>\n",
       "  <tbody>\n",
       "    <tr>\n",
       "      <th>0</th>\n",
       "      <td>data:image/jpeg;base64,/9j/4AAQSkZJRgABAQAAAQA...</td>\n",
       "      <td>data:image/jpeg;base64,/9j/4AAQSkZJRgABAQAAAQA...</td>\n",
       "    </tr>\n",
       "    <tr>\n",
       "      <th>1</th>\n",
       "      <td>data:image/jpeg;base64,/9j/4AAQSkZJRgABAQAAAQA...</td>\n",
       "      <td>data:image/jpeg;base64,/9j/4AAQSkZJRgABAQAAAQA...</td>\n",
       "    </tr>\n",
       "    <tr>\n",
       "      <th>2</th>\n",
       "      <td>https://encrypted-tbn0.gstatic.com/images?q=tb...</td>\n",
       "      <td>data:image/jpeg;base64,/9j/4AAQSkZJRgABAQAAAQA...</td>\n",
       "    </tr>\n",
       "    <tr>\n",
       "      <th>3</th>\n",
       "      <td>data:image/gif;base64,R0lGODlhAQABAIAAAP//////...</td>\n",
       "      <td>data:image/jpeg;base64,/9j/4AAQSkZJRgABAQAAAQA...</td>\n",
       "    </tr>\n",
       "    <tr>\n",
       "      <th>4</th>\n",
       "      <td>data:image/gif;base64,R0lGODlhAQABAIAAAP//////...</td>\n",
       "      <td>data:image/jpeg;base64,/9j/4AAQSkZJRgABAQAAAQA...</td>\n",
       "    </tr>\n",
       "    <tr>\n",
       "      <th>5</th>\n",
       "      <td>data:image/gif;base64,R0lGODlhAQABAIAAAP//////...</td>\n",
       "      <td>data:image/jpeg;base64,/9j/4AAQSkZJRgABAQAAAQA...</td>\n",
       "    </tr>\n",
       "    <tr>\n",
       "      <th>6</th>\n",
       "      <td>data:image/gif;base64,R0lGODlhAQABAIAAAP//////...</td>\n",
       "      <td>data:image/jpeg;base64,/9j/4AAQSkZJRgABAQAAAQA...</td>\n",
       "    </tr>\n",
       "    <tr>\n",
       "      <th>7</th>\n",
       "      <td>data:image/gif;base64,R0lGODlhAQABAIAAAP//////...</td>\n",
       "      <td>data:image/jpeg;base64,/9j/4AAQSkZJRgABAQAAAQA...</td>\n",
       "    </tr>\n",
       "    <tr>\n",
       "      <th>8</th>\n",
       "      <td>data:image/gif;base64,R0lGODlhAQABAIAAAP//////...</td>\n",
       "      <td>data:image/jpeg;base64,/9j/4AAQSkZJRgABAQAAAQA...</td>\n",
       "    </tr>\n",
       "    <tr>\n",
       "      <th>9</th>\n",
       "      <td>data:image/gif;base64,R0lGODlhAQABAIAAAP//////...</td>\n",
       "      <td>data:image/png;base64,iVBORw0KGgoAAAANSUhEUgAA...</td>\n",
       "    </tr>\n",
       "    <tr>\n",
       "      <th>10</th>\n",
       "      <td>data:image/gif;base64,R0lGODlhAQABAIAAAP//////...</td>\n",
       "      <td>https://encrypted-tbn0.gstatic.com/images?q=tb...</td>\n",
       "    </tr>\n",
       "    <tr>\n",
       "      <th>11</th>\n",
       "      <td>data:image/gif;base64,R0lGODlhAQABAIAAAP//////...</td>\n",
       "      <td>https://encrypted-tbn0.gstatic.com/images?q=tb...</td>\n",
       "    </tr>\n",
       "    <tr>\n",
       "      <th>12</th>\n",
       "      <td>data:image/gif;base64,R0lGODlhAQABAIAAAP//////...</td>\n",
       "      <td>https://encrypted-tbn0.gstatic.com/images?q=tb...</td>\n",
       "    </tr>\n",
       "    <tr>\n",
       "      <th>13</th>\n",
       "      <td>data:image/gif;base64,R0lGODlhAQABAIAAAP//////...</td>\n",
       "      <td>https://encrypted-tbn0.gstatic.com/images?q=tb...</td>\n",
       "    </tr>\n",
       "    <tr>\n",
       "      <th>14</th>\n",
       "      <td>data:image/gif;base64,R0lGODlhAQABAIAAAP//////...</td>\n",
       "      <td>https://encrypted-tbn0.gstatic.com/images?q=tb...</td>\n",
       "    </tr>\n",
       "    <tr>\n",
       "      <th>15</th>\n",
       "      <td>data:image/gif;base64,R0lGODlhAQABAIAAAP//////...</td>\n",
       "      <td>https://encrypted-tbn0.gstatic.com/images?q=tb...</td>\n",
       "    </tr>\n",
       "    <tr>\n",
       "      <th>16</th>\n",
       "      <td>data:image/gif;base64,R0lGODlhAQABAIAAAP//////...</td>\n",
       "      <td>https://encrypted-tbn0.gstatic.com/images?q=tb...</td>\n",
       "    </tr>\n",
       "    <tr>\n",
       "      <th>17</th>\n",
       "      <td>data:image/gif;base64,R0lGODlhAQABAIAAAP//////...</td>\n",
       "      <td>https://encrypted-tbn0.gstatic.com/images?q=tb...</td>\n",
       "    </tr>\n",
       "    <tr>\n",
       "      <th>18</th>\n",
       "      <td>data:image/gif;base64,R0lGODlhAQABAIAAAP//////...</td>\n",
       "      <td>https://encrypted-tbn0.gstatic.com/images?q=tb...</td>\n",
       "    </tr>\n",
       "    <tr>\n",
       "      <th>19</th>\n",
       "      <td>data:image/gif;base64,R0lGODlhAQABAIAAAP//////...</td>\n",
       "      <td>https://encrypted-tbn0.gstatic.com/images?q=tb...</td>\n",
       "    </tr>\n",
       "  </tbody>\n",
       "</table>\n",
       "</div>"
      ],
      "text/plain": [
       "                                                Fruit  \\\n",
       "0   data:image/jpeg;base64,/9j/4AAQSkZJRgABAQAAAQA...   \n",
       "1   data:image/jpeg;base64,/9j/4AAQSkZJRgABAQAAAQA...   \n",
       "2   https://encrypted-tbn0.gstatic.com/images?q=tb...   \n",
       "3   data:image/gif;base64,R0lGODlhAQABAIAAAP//////...   \n",
       "4   data:image/gif;base64,R0lGODlhAQABAIAAAP//////...   \n",
       "5   data:image/gif;base64,R0lGODlhAQABAIAAAP//////...   \n",
       "6   data:image/gif;base64,R0lGODlhAQABAIAAAP//////...   \n",
       "7   data:image/gif;base64,R0lGODlhAQABAIAAAP//////...   \n",
       "8   data:image/gif;base64,R0lGODlhAQABAIAAAP//////...   \n",
       "9   data:image/gif;base64,R0lGODlhAQABAIAAAP//////...   \n",
       "10  data:image/gif;base64,R0lGODlhAQABAIAAAP//////...   \n",
       "11  data:image/gif;base64,R0lGODlhAQABAIAAAP//////...   \n",
       "12  data:image/gif;base64,R0lGODlhAQABAIAAAP//////...   \n",
       "13  data:image/gif;base64,R0lGODlhAQABAIAAAP//////...   \n",
       "14  data:image/gif;base64,R0lGODlhAQABAIAAAP//////...   \n",
       "15  data:image/gif;base64,R0lGODlhAQABAIAAAP//////...   \n",
       "16  data:image/gif;base64,R0lGODlhAQABAIAAAP//////...   \n",
       "17  data:image/gif;base64,R0lGODlhAQABAIAAAP//////...   \n",
       "18  data:image/gif;base64,R0lGODlhAQABAIAAAP//////...   \n",
       "19  data:image/gif;base64,R0lGODlhAQABAIAAAP//////...   \n",
       "\n",
       "                                                  Car  \n",
       "0   data:image/jpeg;base64,/9j/4AAQSkZJRgABAQAAAQA...  \n",
       "1   data:image/jpeg;base64,/9j/4AAQSkZJRgABAQAAAQA...  \n",
       "2   data:image/jpeg;base64,/9j/4AAQSkZJRgABAQAAAQA...  \n",
       "3   data:image/jpeg;base64,/9j/4AAQSkZJRgABAQAAAQA...  \n",
       "4   data:image/jpeg;base64,/9j/4AAQSkZJRgABAQAAAQA...  \n",
       "5   data:image/jpeg;base64,/9j/4AAQSkZJRgABAQAAAQA...  \n",
       "6   data:image/jpeg;base64,/9j/4AAQSkZJRgABAQAAAQA...  \n",
       "7   data:image/jpeg;base64,/9j/4AAQSkZJRgABAQAAAQA...  \n",
       "8   data:image/jpeg;base64,/9j/4AAQSkZJRgABAQAAAQA...  \n",
       "9   data:image/png;base64,iVBORw0KGgoAAAANSUhEUgAA...  \n",
       "10  https://encrypted-tbn0.gstatic.com/images?q=tb...  \n",
       "11  https://encrypted-tbn0.gstatic.com/images?q=tb...  \n",
       "12  https://encrypted-tbn0.gstatic.com/images?q=tb...  \n",
       "13  https://encrypted-tbn0.gstatic.com/images?q=tb...  \n",
       "14  https://encrypted-tbn0.gstatic.com/images?q=tb...  \n",
       "15  https://encrypted-tbn0.gstatic.com/images?q=tb...  \n",
       "16  https://encrypted-tbn0.gstatic.com/images?q=tb...  \n",
       "17  https://encrypted-tbn0.gstatic.com/images?q=tb...  \n",
       "18  https://encrypted-tbn0.gstatic.com/images?q=tb...  \n",
       "19  https://encrypted-tbn0.gstatic.com/images?q=tb...  "
      ]
     },
     "execution_count": 43,
     "metadata": {},
     "output_type": "execute_result"
    }
   ],
   "source": [
    "df"
   ]
  },
  {
   "cell_type": "code",
   "execution_count": 1,
   "id": "17cd8571-072d-4fac-95b1-3d5f53dcddc8",
   "metadata": {
    "tags": []
   },
   "outputs": [],
   "source": [
    "import selenium\n",
    "from selenium import webdriver\n",
    "from selenium.webdriver.common.by import By\n",
    "import warnings\n",
    "warnings.filterwarnings('ignore')\n",
    "from bs4 import BeautifulSoup\n",
    "from selenium.common.exceptions import StaleElementReferenceException, NoSuchElementException\n",
    "import requests\n",
    "import time"
   ]
  },
  {
   "cell_type": "code",
   "execution_count": 2,
   "id": "b88a509c-4213-45d0-ba06-0b519159a777",
   "metadata": {
    "tags": []
   },
   "outputs": [],
   "source": [
    "driver= webdriver.Chrome()"
   ]
  },
  {
   "cell_type": "code",
   "execution_count": 3,
   "id": "3c5861e1-880c-45b0-b1dd-60b76508dd7f",
   "metadata": {
    "tags": []
   },
   "outputs": [],
   "source": [
    "driver.get('https://www.flipkart.com/')"
   ]
  },
  {
   "cell_type": "code",
   "execution_count": 4,
   "id": "434459b3-de4c-4adf-8dba-28aad6cc43a9",
   "metadata": {
    "tags": []
   },
   "outputs": [],
   "source": [
    "search= driver.find_element(By.XPATH,'/html/body/div[1]/div/div[1]/div/div/div/div/div[1]/div/div[1]/div/div[1]/div[1]/header/div[1]/div[2]/form/div/div/input')\n",
    "search.send_keys('iphone')"
   ]
  },
  {
   "cell_type": "code",
   "execution_count": 5,
   "id": "f93c09cc-a045-413a-be49-8fe84ac959f9",
   "metadata": {
    "tags": []
   },
   "outputs": [],
   "source": [
    "submit = driver.find_element(By.XPATH,'/html/body/div[1]/div/div[1]/div/div/div/div/div[1]/div/div[1]/div/div[1]/div[1]/header/div[1]/div[2]/form/div/button')\n",
    "submit.click()"
   ]
  },
  {
   "cell_type": "code",
   "execution_count": 7,
   "id": "ceea299b-2092-41c5-9e24-d4f1dba9011d",
   "metadata": {
    "tags": []
   },
   "outputs": [],
   "source": [
    "iphone_url=[]\n",
    "url=driver.find_elements(By.XPATH,'//div[@class=\"tUxRFH\"]/a')\n",
    "for i in url:\n",
    "    iphone_url.append(i.get_attribute('href'))"
   ]
  },
  {
   "cell_type": "code",
   "execution_count": 8,
   "id": "4dc3b1b7-aa5b-4a73-bb4e-124659f9d2a7",
   "metadata": {
    "tags": []
   },
   "outputs": [
    {
     "data": {
      "text/plain": [
       "24"
      ]
     },
     "execution_count": 8,
     "metadata": {},
     "output_type": "execute_result"
    }
   ],
   "source": [
    "len(iphone_url)"
   ]
  },
  {
   "cell_type": "code",
   "execution_count": 10,
   "id": "bb72e6a0-b533-446e-acc2-6722831086c9",
   "metadata": {
    "tags": []
   },
   "outputs": [],
   "source": [
    "model=[]\n",
    "for i in iphone_url:\n",
    "    driver.get(i)\n",
    "    time.sleep(5)\n",
    "    try:\n",
    "        mo=driver.find_element(By.XPATH,'//tr[@class=\"WJdYP6 row\"][3]/td[2]/ul/li[1]')\n",
    "        model.append(mo.text)\n",
    "    except NoSuchElementException:\n",
    "        model.append('-')\n",
    "        \n",
    "    "
   ]
  },
  {
   "cell_type": "code",
   "execution_count": 12,
   "id": "79f8b1de-a002-4f8f-8271-4a2d4ef697d3",
   "metadata": {
    "tags": []
   },
   "outputs": [],
   "source": [
    "color=[]\n",
    "for i in iphone_url:\n",
    "    driver.get(i)\n",
    "    time.sleep(5)\n",
    "    try:\n",
    "        co= driver.find_element(By.XPATH,'//tr[@class=\"WJdYP6 row\"][4]/td[2]/ul/li[1]')\n",
    "        color.append(co.text)\n",
    "    except NoSuchElementException:\n",
    "        color.append('-')"
   ]
  },
  {
   "cell_type": "code",
   "execution_count": 15,
   "id": "4b25cee6-018b-4c17-bb11-e0ac9d7b1bc4",
   "metadata": {},
   "outputs": [],
   "source": [
    "processor=[]\n",
    "for i in iphone_url:\n",
    "    driver.get(i)\n",
    "    time.sleep(5)\n",
    "    try:\n",
    "        p=driver.find_element(By.XPATH,'/html/body/div[1]/div/div[3]/div[1]/div[2]/div[9]/div[5]/div/div[2]/div[1]/div[3]/table/tbody/tr[3]/td[2]/ul/li')\n",
    "        processor.append(p.text)\n",
    "    except NoSuchElementException:\n",
    "        processor.append('-')"
   ]
  },
  {
   "cell_type": "code",
   "execution_count": 9,
   "id": "3aaa39e5-458d-4a1f-982a-d40f5c70a0c3",
   "metadata": {
    "tags": []
   },
   "outputs": [],
   "source": [
    "display=[]\n",
    "for i in iphone_url:\n",
    "    driver.get(i)\n",
    "    time.sleep(5)\n",
    "    try:\n",
    "        d=driver.find_element(By.XPATH,'//*[@id=\"container\"]/div/div[3]/div[1]/div[2]/div[9]/div[5]/div/div[2]/div[1]/div[2]/table/tbody/tr[2]/td[2]/ul/li')\n",
    "        display.append(d.text)\n",
    "    except NoSuchElementException:\n",
    "        display.append('-')"
   ]
  },
  {
   "cell_type": "code",
   "execution_count": 11,
   "id": "9516f914-03d6-4dd4-aaef-ec29ee901b82",
   "metadata": {
    "tags": []
   },
   "outputs": [
    {
     "data": {
      "text/plain": [
       "['',\n",
       " '',\n",
       " '',\n",
       " '',\n",
       " '-',\n",
       " '',\n",
       " '',\n",
       " '',\n",
       " '',\n",
       " '',\n",
       " '',\n",
       " '',\n",
       " '',\n",
       " '',\n",
       " '',\n",
       " '',\n",
       " '',\n",
       " '',\n",
       " '-',\n",
       " '',\n",
       " '',\n",
       " '',\n",
       " '',\n",
       " '']"
      ]
     },
     "execution_count": 11,
     "metadata": {},
     "output_type": "execute_result"
    }
   ],
   "source": [
    "display"
   ]
  },
  {
   "cell_type": "code",
   "execution_count": 9,
   "id": "542f0624-8491-4c4c-a78f-b90dfdd2a462",
   "metadata": {},
   "outputs": [
    {
     "ename": "NameError",
     "evalue": "name 'model' is not defined",
     "output_type": "error",
     "traceback": [
      "\u001b[1;31m---------------------------------------------------------------------------\u001b[0m",
      "\u001b[1;31mNameError\u001b[0m                                 Traceback (most recent call last)",
      "Cell \u001b[1;32mIn[9], line 2\u001b[0m\n\u001b[0;32m      1\u001b[0m \u001b[38;5;28;01mimport\u001b[39;00m \u001b[38;5;21;01mpandas\u001b[39;00m \u001b[38;5;28;01mas\u001b[39;00m \u001b[38;5;21;01mpd\u001b[39;00m\n\u001b[1;32m----> 2\u001b[0m df\u001b[38;5;241m=\u001b[39mpd\u001b[38;5;241m.\u001b[39mDataFrame({\u001b[38;5;124m'\u001b[39m\u001b[38;5;124mModel\u001b[39m\u001b[38;5;124m'\u001b[39m:model,\u001b[38;5;124m'\u001b[39m\u001b[38;5;124mColor\u001b[39m\u001b[38;5;124m'\u001b[39m:color,\u001b[38;5;124m'\u001b[39m\u001b[38;5;124mDisplay\u001b[39m\u001b[38;5;124m'\u001b[39m:display,\u001b[38;5;124m'\u001b[39m\u001b[38;5;124mprocessor\u001b[39m\u001b[38;5;124m'\u001b[39m:processor})\n",
      "\u001b[1;31mNameError\u001b[0m: name 'model' is not defined"
     ]
    }
   ],
   "source": [
    "import pandas as pd\n",
    "df=pd.DataFrame({'Model':model,'Color':color,'Display':display,'processor':processor})"
   ]
  },
  {
   "cell_type": "code",
   "execution_count": 18,
   "id": "122af391-4f21-4d68-8754-bfafb00bb046",
   "metadata": {},
   "outputs": [
    {
     "data": {
      "text/html": [
       "<div>\n",
       "<style scoped>\n",
       "    .dataframe tbody tr th:only-of-type {\n",
       "        vertical-align: middle;\n",
       "    }\n",
       "\n",
       "    .dataframe tbody tr th {\n",
       "        vertical-align: top;\n",
       "    }\n",
       "\n",
       "    .dataframe thead th {\n",
       "        text-align: right;\n",
       "    }\n",
       "</style>\n",
       "<table border=\"1\" class=\"dataframe\">\n",
       "  <thead>\n",
       "    <tr style=\"text-align: right;\">\n",
       "      <th></th>\n",
       "      <th>Model</th>\n",
       "      <th>Color</th>\n",
       "      <th>Display</th>\n",
       "      <th>processor</th>\n",
       "    </tr>\n",
       "  </thead>\n",
       "  <tbody>\n",
       "    <tr>\n",
       "      <th>0</th>\n",
       "      <td>iPhone 15</td>\n",
       "      <td>Black</td>\n",
       "      <td></td>\n",
       "      <td></td>\n",
       "    </tr>\n",
       "    <tr>\n",
       "      <th>1</th>\n",
       "      <td>iPhone 15</td>\n",
       "      <td>Blue</td>\n",
       "      <td></td>\n",
       "      <td></td>\n",
       "    </tr>\n",
       "    <tr>\n",
       "      <th>2</th>\n",
       "      <td>iPhone 15</td>\n",
       "      <td>Green</td>\n",
       "      <td></td>\n",
       "      <td></td>\n",
       "    </tr>\n",
       "    <tr>\n",
       "      <th>3</th>\n",
       "      <td>iPhone 14 Plus</td>\n",
       "      <td>Midnight</td>\n",
       "      <td></td>\n",
       "      <td></td>\n",
       "    </tr>\n",
       "    <tr>\n",
       "      <th>4</th>\n",
       "      <td>iPhone 14 Plus</td>\n",
       "      <td>Blue</td>\n",
       "      <td></td>\n",
       "      <td></td>\n",
       "    </tr>\n",
       "    <tr>\n",
       "      <th>5</th>\n",
       "      <td>iPhone 14 Plus</td>\n",
       "      <td>Starlight</td>\n",
       "      <td></td>\n",
       "      <td></td>\n",
       "    </tr>\n",
       "    <tr>\n",
       "      <th>6</th>\n",
       "      <td>iPhone 14 Plus</td>\n",
       "      <td>Purple</td>\n",
       "      <td></td>\n",
       "      <td></td>\n",
       "    </tr>\n",
       "    <tr>\n",
       "      <th>7</th>\n",
       "      <td>iPhone 15</td>\n",
       "      <td>Yellow</td>\n",
       "      <td></td>\n",
       "      <td></td>\n",
       "    </tr>\n",
       "    <tr>\n",
       "      <th>8</th>\n",
       "      <td>iPhone 14 Plus</td>\n",
       "      <td>(PRODUCT)RED</td>\n",
       "      <td></td>\n",
       "      <td></td>\n",
       "    </tr>\n",
       "    <tr>\n",
       "      <th>9</th>\n",
       "      <td>iPhone 14</td>\n",
       "      <td>Blue</td>\n",
       "      <td></td>\n",
       "      <td></td>\n",
       "    </tr>\n",
       "    <tr>\n",
       "      <th>10</th>\n",
       "      <td>iPhone 12</td>\n",
       "      <td>Black</td>\n",
       "      <td>-</td>\n",
       "      <td></td>\n",
       "    </tr>\n",
       "    <tr>\n",
       "      <th>11</th>\n",
       "      <td>iPhone 15 Plus</td>\n",
       "      <td>Blue</td>\n",
       "      <td></td>\n",
       "      <td></td>\n",
       "    </tr>\n",
       "    <tr>\n",
       "      <th>12</th>\n",
       "      <td>iPhone 14 Plus</td>\n",
       "      <td>Midnight</td>\n",
       "      <td></td>\n",
       "      <td></td>\n",
       "    </tr>\n",
       "    <tr>\n",
       "      <th>13</th>\n",
       "      <td>iPhone 15 Plus</td>\n",
       "      <td>Green</td>\n",
       "      <td></td>\n",
       "      <td></td>\n",
       "    </tr>\n",
       "    <tr>\n",
       "      <th>14</th>\n",
       "      <td>iPhone 14 Plus</td>\n",
       "      <td>Yellow</td>\n",
       "      <td></td>\n",
       "      <td></td>\n",
       "    </tr>\n",
       "    <tr>\n",
       "      <th>15</th>\n",
       "      <td>iPhone 13</td>\n",
       "      <td>Starlight</td>\n",
       "      <td>-</td>\n",
       "      <td></td>\n",
       "    </tr>\n",
       "    <tr>\n",
       "      <th>16</th>\n",
       "      <td>iPhone 13</td>\n",
       "      <td>Pink</td>\n",
       "      <td>-</td>\n",
       "      <td></td>\n",
       "    </tr>\n",
       "    <tr>\n",
       "      <th>17</th>\n",
       "      <td>iPhone 13</td>\n",
       "      <td>Blue</td>\n",
       "      <td>-</td>\n",
       "      <td></td>\n",
       "    </tr>\n",
       "    <tr>\n",
       "      <th>18</th>\n",
       "      <td>iPhone 15</td>\n",
       "      <td>Pink</td>\n",
       "      <td></td>\n",
       "      <td></td>\n",
       "    </tr>\n",
       "    <tr>\n",
       "      <th>19</th>\n",
       "      <td>iPhone 13</td>\n",
       "      <td>Midnight</td>\n",
       "      <td>-</td>\n",
       "      <td></td>\n",
       "    </tr>\n",
       "    <tr>\n",
       "      <th>20</th>\n",
       "      <td>iPhone 13</td>\n",
       "      <td>Blue</td>\n",
       "      <td>-</td>\n",
       "      <td></td>\n",
       "    </tr>\n",
       "    <tr>\n",
       "      <th>21</th>\n",
       "      <td>iPhone 12</td>\n",
       "      <td>Blue</td>\n",
       "      <td>-</td>\n",
       "      <td></td>\n",
       "    </tr>\n",
       "    <tr>\n",
       "      <th>22</th>\n",
       "      <td>iPhone 13</td>\n",
       "      <td>Pink</td>\n",
       "      <td>-</td>\n",
       "      <td></td>\n",
       "    </tr>\n",
       "    <tr>\n",
       "      <th>23</th>\n",
       "      <td>iPhone 14 Plus</td>\n",
       "      <td>Blue</td>\n",
       "      <td></td>\n",
       "      <td></td>\n",
       "    </tr>\n",
       "  </tbody>\n",
       "</table>\n",
       "</div>"
      ],
      "text/plain": [
       "             Model         Color Display processor\n",
       "0        iPhone 15         Black                  \n",
       "1        iPhone 15          Blue                  \n",
       "2        iPhone 15         Green                  \n",
       "3   iPhone 14 Plus      Midnight                  \n",
       "4   iPhone 14 Plus          Blue                  \n",
       "5   iPhone 14 Plus     Starlight                  \n",
       "6   iPhone 14 Plus        Purple                  \n",
       "7        iPhone 15        Yellow                  \n",
       "8   iPhone 14 Plus  (PRODUCT)RED                  \n",
       "9        iPhone 14          Blue                  \n",
       "10       iPhone 12         Black       -          \n",
       "11  iPhone 15 Plus          Blue                  \n",
       "12  iPhone 14 Plus      Midnight                  \n",
       "13  iPhone 15 Plus         Green                  \n",
       "14  iPhone 14 Plus        Yellow                  \n",
       "15       iPhone 13     Starlight       -          \n",
       "16       iPhone 13          Pink       -          \n",
       "17       iPhone 13          Blue       -          \n",
       "18       iPhone 15          Pink                  \n",
       "19       iPhone 13      Midnight       -          \n",
       "20       iPhone 13          Blue       -          \n",
       "21       iPhone 12          Blue       -          \n",
       "22       iPhone 13          Pink       -          \n",
       "23  iPhone 14 Plus          Blue                  "
      ]
     },
     "execution_count": 18,
     "metadata": {},
     "output_type": "execute_result"
    }
   ],
   "source": [
    "df"
   ]
  },
  {
   "cell_type": "code",
   "execution_count": 19,
   "id": "8e70a8d0-a9fd-4e82-bf68-a44f515f560f",
   "metadata": {},
   "outputs": [],
   "source": [
    "driver.close()\n"
   ]
  },
  {
   "cell_type": "code",
   "execution_count": 16,
   "id": "7ab25787-6863-4e1d-ad84-6fb4e1aea99e",
   "metadata": {},
   "outputs": [
    {
     "data": {
      "text/plain": [
       "24"
      ]
     },
     "execution_count": 16,
     "metadata": {},
     "output_type": "execute_result"
    }
   ],
   "source": [
    "len(display)"
   ]
  },
  {
   "cell_type": "code",
   "execution_count": 1,
   "id": "acd70166-49d8-47bb-b34b-078a0a915880",
   "metadata": {},
   "outputs": [],
   "source": [
    "import selenium\n",
    "from selenium import webdriver\n",
    "from selenium.webdriver.common.by import By\n",
    "import warnings\n",
    "warnings.filterwarnings('ignore')\n",
    "from selenium.common.exceptions import StaleElementReferenceException, NoSuchElementException\n",
    "import time\n"
   ]
  },
  {
   "cell_type": "code",
   "execution_count": 19,
   "id": "cb3e3a18-7af3-493a-a29a-3851b7b842d5",
   "metadata": {
    "tags": []
   },
   "outputs": [],
   "source": [
    "driver = webdriver.Chrome()"
   ]
  },
  {
   "cell_type": "code",
   "execution_count": 20,
   "id": "ca435627-f030-4c81-900d-4c2e4052c192",
   "metadata": {
    "tags": []
   },
   "outputs": [],
   "source": [
    "driver.get('https://www.digit.in/')"
   ]
  },
  {
   "cell_type": "code",
   "execution_count": 21,
   "id": "7372078c-ee62-427a-b66f-e7a7cf1fc587",
   "metadata": {
    "tags": []
   },
   "outputs": [],
   "source": [
    "search = driver.find_element(By.XPATH,'/html/body/div[1]/header/div/div[1]/div/div/div[2]/form/input[1]')\n",
    "search.send_keys('AI LAPTOP')"
   ]
  },
  {
   "cell_type": "code",
   "execution_count": 22,
   "id": "26c4bb16-b693-4b8a-9d95-8cfd5b3e45d6",
   "metadata": {
    "tags": []
   },
   "outputs": [],
   "source": [
    "submit = driver.find_element(By.XPATH,'/html/body/div[1]/header/div/div[1]/div/div/div[2]/form/button')\n",
    "submit.click()"
   ]
  },
  {
   "cell_type": "code",
   "execution_count": 23,
   "id": "5127fc83-1b8c-406a-bf5f-6dc56d9cb41b",
   "metadata": {
    "tags": []
   },
   "outputs": [],
   "source": [
    "laptop_url=[]\n",
    "for page in range(0,2):\n",
    "    url = driver.find_elements(By.XPATH,'//h3[@class=\" text-clamp text-clamp-2\"]/a')\n",
    "    for i in url:\n",
    "        laptop_url.append(i.text)\n",
    "        next = driver.find_element(By.XPATH,'/html/body/div[1]/div[3]/div/div/article/div[2]/nav/ul/li[4]/a')\n",
    "    "
   ]
  },
  {
   "cell_type": "code",
   "execution_count": 24,
   "id": "884306ee-e8f9-4526-95c2-8800c302fa3c",
   "metadata": {},
   "outputs": [
    {
     "data": {
      "text/plain": [
       "24"
      ]
     },
     "execution_count": 24,
     "metadata": {},
     "output_type": "execute_result"
    }
   ],
   "source": [
    "len(laptop_url)"
   ]
  },
  {
   "cell_type": "code",
   "execution_count": 25,
   "id": "ba700e85-b693-4cf0-8c78-3fe83b78c555",
   "metadata": {
    "tags": []
   },
   "outputs": [
    {
     "data": {
      "text/plain": [
       "['Microsoft Laptop 4 5AI-00121 11th Gen Core i5-1135G7 (2022)',\n",
       " 'Apple MacBook Air 2023',\n",
       " 'Alienware x14 Gaming Laptop',\n",
       " 'MSI Gaming Raider',\n",
       " 'Lenovo Legion 5 Pro 82JD005KIN | 11th Gen Core i7-11800H | RTX 3060 | 16GB',\n",
       " 'Acer Aspire 5 13th Gen Core i5-1335U (A514-56GM)',\n",
       " 'HP Victus 15',\n",
       " 'Dell Inspiron 15 Athlon Gold 7220U',\n",
       " 'acer Predator Helios 300 PH315-53 10th Gen Core i7-10870H',\n",
       " 'Lenovo IdeaPad Gaming 3 15IAH7',\n",
       " 'Acer Aspire 5',\n",
       " 'Dell Latitude 7430',\n",
       " 'Microsoft Laptop 4 5AI-00121 11th Gen Core i5-1135G7 (2022)',\n",
       " 'Apple MacBook Air 2023',\n",
       " 'Alienware x14 Gaming Laptop',\n",
       " 'MSI Gaming Raider',\n",
       " 'Lenovo Legion 5 Pro 82JD005KIN | 11th Gen Core i7-11800H | RTX 3060 | 16GB',\n",
       " 'Acer Aspire 5 13th Gen Core i5-1335U (A514-56GM)',\n",
       " 'HP Victus 15',\n",
       " 'Dell Inspiron 15 Athlon Gold 7220U',\n",
       " 'acer Predator Helios 300 PH315-53 10th Gen Core i7-10870H',\n",
       " 'Lenovo IdeaPad Gaming 3 15IAH7',\n",
       " 'Acer Aspire 5',\n",
       " 'Dell Latitude 7430']"
      ]
     },
     "execution_count": 25,
     "metadata": {},
     "output_type": "execute_result"
    }
   ],
   "source": [
    "laptop_url"
   ]
  },
  {
   "cell_type": "code",
   "execution_count": 26,
   "id": "c0dbda7f-c9c2-43ae-b989-a23cc0f4cb4d",
   "metadata": {
    "tags": []
   },
   "outputs": [],
   "source": [
    "price=[]\n",
    "for page in range(0,2):\n",
    "    pr= driver.find_elements(By.XPATH,'//div[@class=\"price_for_grid redbrightcolor floatleft rehub-btn-font mr10\"]')\n",
    "    try:\n",
    "        for i in pr:\n",
    "            price.append(i.text)\n",
    "    except NoSuchElementException:\n",
    "        price.append('NA')\n",
    "            "
   ]
  },
  {
   "cell_type": "code",
   "execution_count": 27,
   "id": "5afe633c-1588-470e-9d4b-75f335aec8e4",
   "metadata": {
    "tags": []
   },
   "outputs": [
    {
     "data": {
      "text/plain": [
       "24"
      ]
     },
     "execution_count": 27,
     "metadata": {},
     "output_type": "execute_result"
    }
   ],
   "source": [
    "len(price)"
   ]
  },
  {
   "cell_type": "code",
   "execution_count": 28,
   "id": "26d19df9-e477-4fea-95d0-42fb524ba9aa",
   "metadata": {
    "tags": []
   },
   "outputs": [
    {
     "data": {
      "text/plain": [
       "['',\n",
       " '₹134,900.00',\n",
       " '₹174,990.00',\n",
       " '',\n",
       " 'out of stock\\nBuy Now\\nAmazon.in',\n",
       " 'Rs. 53,581\\nRs. 90,999\\nin stock\\nBuy Now\\nAmazon.in',\n",
       " '₹112,990.00',\n",
       " '₹38,499.00',\n",
       " 'Rs. 77,990\\nRs. 149,999\\nout of stock\\nBuy Now\\nFlipkart',\n",
       " '₹79,831.00',\n",
       " 'out of stock\\nBuy Now\\nAmazon.in',\n",
       " '₹120,224.00',\n",
       " '',\n",
       " '₹134,900.00',\n",
       " '₹174,990.00',\n",
       " '',\n",
       " 'out of stock\\nBuy Now\\nAmazon.in',\n",
       " 'Rs. 53,581\\nRs. 90,999\\nin stock\\nBuy Now\\nAmazon.in',\n",
       " '₹112,990.00',\n",
       " '₹38,499.00',\n",
       " 'Rs. 77,990\\nRs. 149,999\\nout of stock\\nBuy Now\\nFlipkart',\n",
       " '₹79,831.00',\n",
       " 'out of stock\\nBuy Now\\nAmazon.in',\n",
       " '₹120,224.00']"
      ]
     },
     "execution_count": 28,
     "metadata": {},
     "output_type": "execute_result"
    }
   ],
   "source": [
    "price"
   ]
  },
  {
   "cell_type": "code",
   "execution_count": 29,
   "id": "20c2a8de-444d-4023-9bb9-bbf118f3d6f3",
   "metadata": {
    "tags": []
   },
   "outputs": [],
   "source": [
    "import pandas as pd\n",
    "df=pd.DataFrame({'Laptop':laptop_url,'Price':price})"
   ]
  },
  {
   "cell_type": "code",
   "execution_count": 30,
   "id": "0aa09cc7-f377-4cf3-9b6b-f26a6c663e35",
   "metadata": {
    "tags": []
   },
   "outputs": [
    {
     "data": {
      "text/html": [
       "<div>\n",
       "<style scoped>\n",
       "    .dataframe tbody tr th:only-of-type {\n",
       "        vertical-align: middle;\n",
       "    }\n",
       "\n",
       "    .dataframe tbody tr th {\n",
       "        vertical-align: top;\n",
       "    }\n",
       "\n",
       "    .dataframe thead th {\n",
       "        text-align: right;\n",
       "    }\n",
       "</style>\n",
       "<table border=\"1\" class=\"dataframe\">\n",
       "  <thead>\n",
       "    <tr style=\"text-align: right;\">\n",
       "      <th></th>\n",
       "      <th>Laptop</th>\n",
       "      <th>Price</th>\n",
       "    </tr>\n",
       "  </thead>\n",
       "  <tbody>\n",
       "    <tr>\n",
       "      <th>0</th>\n",
       "      <td>Microsoft Laptop 4 5AI-00121 11th Gen Core i5-...</td>\n",
       "      <td></td>\n",
       "    </tr>\n",
       "    <tr>\n",
       "      <th>1</th>\n",
       "      <td>Apple MacBook Air 2023</td>\n",
       "      <td>₹134,900.00</td>\n",
       "    </tr>\n",
       "    <tr>\n",
       "      <th>2</th>\n",
       "      <td>Alienware x14 Gaming Laptop</td>\n",
       "      <td>₹174,990.00</td>\n",
       "    </tr>\n",
       "    <tr>\n",
       "      <th>3</th>\n",
       "      <td>MSI Gaming Raider</td>\n",
       "      <td></td>\n",
       "    </tr>\n",
       "    <tr>\n",
       "      <th>4</th>\n",
       "      <td>Lenovo Legion 5 Pro 82JD005KIN | 11th Gen Core...</td>\n",
       "      <td>out of stock\\nBuy Now\\nAmazon.in</td>\n",
       "    </tr>\n",
       "    <tr>\n",
       "      <th>5</th>\n",
       "      <td>Acer Aspire 5 13th Gen Core i5-1335U (A514-56GM)</td>\n",
       "      <td>Rs. 53,581\\nRs. 90,999\\nin stock\\nBuy Now\\nAma...</td>\n",
       "    </tr>\n",
       "    <tr>\n",
       "      <th>6</th>\n",
       "      <td>HP Victus 15</td>\n",
       "      <td>₹112,990.00</td>\n",
       "    </tr>\n",
       "    <tr>\n",
       "      <th>7</th>\n",
       "      <td>Dell Inspiron 15 Athlon Gold 7220U</td>\n",
       "      <td>₹38,499.00</td>\n",
       "    </tr>\n",
       "    <tr>\n",
       "      <th>8</th>\n",
       "      <td>acer Predator Helios 300 PH315-53 10th Gen Cor...</td>\n",
       "      <td>Rs. 77,990\\nRs. 149,999\\nout of stock\\nBuy Now...</td>\n",
       "    </tr>\n",
       "    <tr>\n",
       "      <th>9</th>\n",
       "      <td>Lenovo IdeaPad Gaming 3 15IAH7</td>\n",
       "      <td>₹79,831.00</td>\n",
       "    </tr>\n",
       "    <tr>\n",
       "      <th>10</th>\n",
       "      <td>Acer Aspire 5</td>\n",
       "      <td>out of stock\\nBuy Now\\nAmazon.in</td>\n",
       "    </tr>\n",
       "    <tr>\n",
       "      <th>11</th>\n",
       "      <td>Dell Latitude 7430</td>\n",
       "      <td>₹120,224.00</td>\n",
       "    </tr>\n",
       "    <tr>\n",
       "      <th>12</th>\n",
       "      <td>Microsoft Laptop 4 5AI-00121 11th Gen Core i5-...</td>\n",
       "      <td></td>\n",
       "    </tr>\n",
       "    <tr>\n",
       "      <th>13</th>\n",
       "      <td>Apple MacBook Air 2023</td>\n",
       "      <td>₹134,900.00</td>\n",
       "    </tr>\n",
       "    <tr>\n",
       "      <th>14</th>\n",
       "      <td>Alienware x14 Gaming Laptop</td>\n",
       "      <td>₹174,990.00</td>\n",
       "    </tr>\n",
       "    <tr>\n",
       "      <th>15</th>\n",
       "      <td>MSI Gaming Raider</td>\n",
       "      <td></td>\n",
       "    </tr>\n",
       "    <tr>\n",
       "      <th>16</th>\n",
       "      <td>Lenovo Legion 5 Pro 82JD005KIN | 11th Gen Core...</td>\n",
       "      <td>out of stock\\nBuy Now\\nAmazon.in</td>\n",
       "    </tr>\n",
       "    <tr>\n",
       "      <th>17</th>\n",
       "      <td>Acer Aspire 5 13th Gen Core i5-1335U (A514-56GM)</td>\n",
       "      <td>Rs. 53,581\\nRs. 90,999\\nin stock\\nBuy Now\\nAma...</td>\n",
       "    </tr>\n",
       "    <tr>\n",
       "      <th>18</th>\n",
       "      <td>HP Victus 15</td>\n",
       "      <td>₹112,990.00</td>\n",
       "    </tr>\n",
       "    <tr>\n",
       "      <th>19</th>\n",
       "      <td>Dell Inspiron 15 Athlon Gold 7220U</td>\n",
       "      <td>₹38,499.00</td>\n",
       "    </tr>\n",
       "    <tr>\n",
       "      <th>20</th>\n",
       "      <td>acer Predator Helios 300 PH315-53 10th Gen Cor...</td>\n",
       "      <td>Rs. 77,990\\nRs. 149,999\\nout of stock\\nBuy Now...</td>\n",
       "    </tr>\n",
       "    <tr>\n",
       "      <th>21</th>\n",
       "      <td>Lenovo IdeaPad Gaming 3 15IAH7</td>\n",
       "      <td>₹79,831.00</td>\n",
       "    </tr>\n",
       "    <tr>\n",
       "      <th>22</th>\n",
       "      <td>Acer Aspire 5</td>\n",
       "      <td>out of stock\\nBuy Now\\nAmazon.in</td>\n",
       "    </tr>\n",
       "    <tr>\n",
       "      <th>23</th>\n",
       "      <td>Dell Latitude 7430</td>\n",
       "      <td>₹120,224.00</td>\n",
       "    </tr>\n",
       "  </tbody>\n",
       "</table>\n",
       "</div>"
      ],
      "text/plain": [
       "                                               Laptop  \\\n",
       "0   Microsoft Laptop 4 5AI-00121 11th Gen Core i5-...   \n",
       "1                              Apple MacBook Air 2023   \n",
       "2                         Alienware x14 Gaming Laptop   \n",
       "3                                   MSI Gaming Raider   \n",
       "4   Lenovo Legion 5 Pro 82JD005KIN | 11th Gen Core...   \n",
       "5    Acer Aspire 5 13th Gen Core i5-1335U (A514-56GM)   \n",
       "6                                        HP Victus 15   \n",
       "7                  Dell Inspiron 15 Athlon Gold 7220U   \n",
       "8   acer Predator Helios 300 PH315-53 10th Gen Cor...   \n",
       "9                      Lenovo IdeaPad Gaming 3 15IAH7   \n",
       "10                                      Acer Aspire 5   \n",
       "11                                 Dell Latitude 7430   \n",
       "12  Microsoft Laptop 4 5AI-00121 11th Gen Core i5-...   \n",
       "13                             Apple MacBook Air 2023   \n",
       "14                        Alienware x14 Gaming Laptop   \n",
       "15                                  MSI Gaming Raider   \n",
       "16  Lenovo Legion 5 Pro 82JD005KIN | 11th Gen Core...   \n",
       "17   Acer Aspire 5 13th Gen Core i5-1335U (A514-56GM)   \n",
       "18                                       HP Victus 15   \n",
       "19                 Dell Inspiron 15 Athlon Gold 7220U   \n",
       "20  acer Predator Helios 300 PH315-53 10th Gen Cor...   \n",
       "21                     Lenovo IdeaPad Gaming 3 15IAH7   \n",
       "22                                      Acer Aspire 5   \n",
       "23                                 Dell Latitude 7430   \n",
       "\n",
       "                                                Price  \n",
       "0                                                      \n",
       "1                                         ₹134,900.00  \n",
       "2                                         ₹174,990.00  \n",
       "3                                                      \n",
       "4                    out of stock\\nBuy Now\\nAmazon.in  \n",
       "5   Rs. 53,581\\nRs. 90,999\\nin stock\\nBuy Now\\nAma...  \n",
       "6                                         ₹112,990.00  \n",
       "7                                          ₹38,499.00  \n",
       "8   Rs. 77,990\\nRs. 149,999\\nout of stock\\nBuy Now...  \n",
       "9                                          ₹79,831.00  \n",
       "10                   out of stock\\nBuy Now\\nAmazon.in  \n",
       "11                                        ₹120,224.00  \n",
       "12                                                     \n",
       "13                                        ₹134,900.00  \n",
       "14                                        ₹174,990.00  \n",
       "15                                                     \n",
       "16                   out of stock\\nBuy Now\\nAmazon.in  \n",
       "17  Rs. 53,581\\nRs. 90,999\\nin stock\\nBuy Now\\nAma...  \n",
       "18                                        ₹112,990.00  \n",
       "19                                         ₹38,499.00  \n",
       "20  Rs. 77,990\\nRs. 149,999\\nout of stock\\nBuy Now...  \n",
       "21                                         ₹79,831.00  \n",
       "22                   out of stock\\nBuy Now\\nAmazon.in  \n",
       "23                                        ₹120,224.00  "
      ]
     },
     "execution_count": 30,
     "metadata": {},
     "output_type": "execute_result"
    }
   ],
   "source": [
    "df"
   ]
  },
  {
   "cell_type": "code",
   "execution_count": 33,
   "id": "de3fe9c0-97de-4fac-b75d-3874ba30da40",
   "metadata": {
    "tags": []
   },
   "outputs": [],
   "source": [
    "driver.close()"
   ]
  },
  {
   "cell_type": "code",
   "execution_count": null,
   "id": "a2e289dd-4175-4606-98e9-147f48c4fe98",
   "metadata": {},
   "outputs": [],
   "source": []
  },
  {
   "cell_type": "code",
   "execution_count": 31,
   "id": "3163aaa5-ae1b-403f-b076-a24d541e3c0a",
   "metadata": {
    "tags": []
   },
   "outputs": [],
   "source": [
    "import selenium\n",
    "from selenium import webdriver\n",
    "from selenium.webdriver.common.by import By\n",
    "import warnings\n",
    "warnings.filterwarnings('ignore')\n",
    "from selenium.common.exceptions import StaleElementReferenceException, NoSuchElementException\n",
    "import time\n"
   ]
  },
  {
   "cell_type": "code",
   "execution_count": 32,
   "id": "113e655b-fa5f-48ee-8b73-ff585b49ac9e",
   "metadata": {
    "tags": []
   },
   "outputs": [],
   "source": [
    "driver=webdriver.Chrome()"
   ]
  },
  {
   "cell_type": "code",
   "execution_count": 33,
   "id": "a27472fa-d44e-4c0d-9ece-82893c843a67",
   "metadata": {
    "tags": []
   },
   "outputs": [],
   "source": [
    "driver.get('https://www.forbes.com/')"
   ]
  },
  {
   "cell_type": "code",
   "execution_count": 36,
   "id": "00d6d49d-d9a8-4e45-a326-b5ca34cc5b98",
   "metadata": {
    "tags": []
   },
   "outputs": [],
   "source": [
    "search = driver.find_element(By.XPATH,'/html/body/div[1]/header/div/header/div[1]/div[1]/div')\n",
    "search.click()"
   ]
  },
  {
   "cell_type": "code",
   "execution_count": 38,
   "id": "4d5f5d2e-ba1b-4532-9199-a2c27983aebc",
   "metadata": {
    "tags": []
   },
   "outputs": [],
   "source": [
    "list = driver.find_element(By.XPATH,'/html/body/div[1]/header/div/header/div[1]/div[1]/div[2]/ul/li[2]')\n",
    "list.click()"
   ]
  },
  {
   "cell_type": "code",
   "execution_count": 40,
   "id": "bc036280-61c8-4c16-9591-3ebdd1f880ed",
   "metadata": {},
   "outputs": [],
   "source": [
    "tab = driver.find_element(By.XPATH,'/html/body/div[1]/header/div/header/div[1]/div[1]/div[2]/ul/li[2]/div[2]/div[3]/ul/li[2]')\n",
    "tab.click()"
   ]
  },
  {
   "cell_type": "code",
   "execution_count": 41,
   "id": "6e413c2d-43a5-4785-99e0-90016a597be3",
   "metadata": {
    "tags": []
   },
   "outputs": [],
   "source": [
    "name=[]\n",
    "age=[]\n",
    "networth=[]\n",
    "state=[]\n",
    "\n",
    "nam= driver.find_elements(By.XPATH,'//div[@class=\"Table_tableRow__x3HMS\"]/div[2]')\n",
    "try:\n",
    "    for i in nam:\n",
    "        name.append(i.text)\n",
    "except NoSuchElementException:\n",
    "    name.append('NA')"
   ]
  },
  {
   "cell_type": "code",
   "execution_count": 42,
   "id": "aefaea7d-7364-4472-9028-7c49ace56395",
   "metadata": {},
   "outputs": [],
   "source": [
    "a= driver.find_elements(By.XPATH,'//div[@class=\"Table_tableRow__x3HMS\"]/div[4]')\n",
    "try:\n",
    "    for i in a:\n",
    "        age.append(i.text)\n",
    "except NoSuchElementException:\n",
    "    age.append('NA')\n",
    "\n",
    "    \n",
    "net=driver.find_elements(By.XPATH,'//div[@class=\"Table_tableRow__x3HMS\"]/div[3]')\n",
    "try:\n",
    "    for i in net:\n",
    "        networth.append(i.text)\n",
    "except NoSuchElementException:\n",
    "    networth.append('NA')\n",
    "\n",
    "    \n",
    "sta=driver.find_elements(By.XPATH,'//div[@class=\"Table_tableRow__x3HMS\"]/div[5]')\n",
    "try:\n",
    "    for i in sta:\n",
    "        state.append(i.text)\n",
    "except NoSuchElementException:\n",
    "    state.append('NA')\n"
   ]
  },
  {
   "cell_type": "code",
   "execution_count": 43,
   "id": "bbc65795-b94e-47ad-ae7c-d4bd256b12b0",
   "metadata": {
    "tags": []
   },
   "outputs": [],
   "source": [
    "import pandas as pd"
   ]
  },
  {
   "cell_type": "code",
   "execution_count": 49,
   "id": "67352fe0-3009-468a-a27c-8b2d0127b516",
   "metadata": {
    "tags": []
   },
   "outputs": [],
   "source": [
    "df=pd.DataFrame({'Name':name[90:120],'Age':age[90:120],'Networth':networth[90:120],'State':state[90:120]})"
   ]
  },
  {
   "cell_type": "code",
   "execution_count": 50,
   "id": "5e53328c-f6dc-4d90-801c-c784db90d640",
   "metadata": {
    "tags": []
   },
   "outputs": [
    {
     "data": {
      "text/html": [
       "<div>\n",
       "<style scoped>\n",
       "    .dataframe tbody tr th:only-of-type {\n",
       "        vertical-align: middle;\n",
       "    }\n",
       "\n",
       "    .dataframe tbody tr th {\n",
       "        vertical-align: top;\n",
       "    }\n",
       "\n",
       "    .dataframe thead th {\n",
       "        text-align: right;\n",
       "    }\n",
       "</style>\n",
       "<table border=\"1\" class=\"dataframe\">\n",
       "  <thead>\n",
       "    <tr style=\"text-align: right;\">\n",
       "      <th></th>\n",
       "      <th>Name</th>\n",
       "      <th>Age</th>\n",
       "      <th>Networth</th>\n",
       "      <th>State</th>\n",
       "    </tr>\n",
       "  </thead>\n",
       "  <tbody>\n",
       "    <tr>\n",
       "      <th>0</th>\n",
       "      <td>Ramzi Musallam</td>\n",
       "      <td>55</td>\n",
       "      <td>$9 B</td>\n",
       "      <td>New York</td>\n",
       "    </tr>\n",
       "    <tr>\n",
       "      <th>1</th>\n",
       "      <td>J. Christopher Reyes</td>\n",
       "      <td>69</td>\n",
       "      <td>$9 B</td>\n",
       "      <td>Florida</td>\n",
       "    </tr>\n",
       "    <tr>\n",
       "      <th>2</th>\n",
       "      <td>Jude Reyes</td>\n",
       "      <td>68</td>\n",
       "      <td>$9 B</td>\n",
       "      <td>Florida</td>\n",
       "    </tr>\n",
       "    <tr>\n",
       "      <th>3</th>\n",
       "      <td>Charles Schwab</td>\n",
       "      <td>86</td>\n",
       "      <td>$9 B</td>\n",
       "      <td>California</td>\n",
       "    </tr>\n",
       "    <tr>\n",
       "      <th>4</th>\n",
       "      <td>Joe Gebbia</td>\n",
       "      <td>42</td>\n",
       "      <td>$8.9 B</td>\n",
       "      <td>Texas</td>\n",
       "    </tr>\n",
       "    <tr>\n",
       "      <th>5</th>\n",
       "      <td>Henry Kravis</td>\n",
       "      <td>79</td>\n",
       "      <td>$8.9 B</td>\n",
       "      <td>New York</td>\n",
       "    </tr>\n",
       "    <tr>\n",
       "      <th>6</th>\n",
       "      <td>Pauline MacMillan Keinath</td>\n",
       "      <td>89</td>\n",
       "      <td>$8.8 B</td>\n",
       "      <td>Missouri</td>\n",
       "    </tr>\n",
       "    <tr>\n",
       "      <th>7</th>\n",
       "      <td>Orlando Bravo</td>\n",
       "      <td>53</td>\n",
       "      <td>$8.7 B</td>\n",
       "      <td>Florida</td>\n",
       "    </tr>\n",
       "    <tr>\n",
       "      <th>8</th>\n",
       "      <td>Jimmy Haslam</td>\n",
       "      <td>69</td>\n",
       "      <td>$8.7 B</td>\n",
       "      <td>Tennessee</td>\n",
       "    </tr>\n",
       "    <tr>\n",
       "      <th>9</th>\n",
       "      <td>Elizabeth Johnson</td>\n",
       "      <td>60</td>\n",
       "      <td>$8.7 B</td>\n",
       "      <td>Massachusetts</td>\n",
       "    </tr>\n",
       "    <tr>\n",
       "      <th>10</th>\n",
       "      <td>James Goodnight</td>\n",
       "      <td>80</td>\n",
       "      <td>$8.5 B</td>\n",
       "      <td>North Carolina</td>\n",
       "    </tr>\n",
       "    <tr>\n",
       "      <th>11</th>\n",
       "      <td>Henry Nicholas, III.</td>\n",
       "      <td>63</td>\n",
       "      <td>$8.5 B</td>\n",
       "      <td>California</td>\n",
       "    </tr>\n",
       "    <tr>\n",
       "      <th>12</th>\n",
       "      <td>Marc Benioff</td>\n",
       "      <td>59</td>\n",
       "      <td>$8.4 B</td>\n",
       "      <td>California</td>\n",
       "    </tr>\n",
       "    <tr>\n",
       "      <th>13</th>\n",
       "      <td>Robert Pera</td>\n",
       "      <td>45</td>\n",
       "      <td>$8.3 B</td>\n",
       "      <td>California</td>\n",
       "    </tr>\n",
       "    <tr>\n",
       "      <th>14</th>\n",
       "      <td>David Shaw</td>\n",
       "      <td>72</td>\n",
       "      <td>$8.3 B</td>\n",
       "      <td>New York</td>\n",
       "    </tr>\n",
       "    <tr>\n",
       "      <th>15</th>\n",
       "      <td>Elisabeth DeLuca &amp; family</td>\n",
       "      <td>76</td>\n",
       "      <td>$8.2 B</td>\n",
       "      <td>Florida</td>\n",
       "    </tr>\n",
       "    <tr>\n",
       "      <th>16</th>\n",
       "      <td>Jack Dangermond</td>\n",
       "      <td>78</td>\n",
       "      <td>$8.1 B</td>\n",
       "      <td>California</td>\n",
       "    </tr>\n",
       "    <tr>\n",
       "      <th>17</th>\n",
       "      <td>Tom Gores</td>\n",
       "      <td>59</td>\n",
       "      <td>$8.1 B</td>\n",
       "      <td>California</td>\n",
       "    </tr>\n",
       "    <tr>\n",
       "      <th>18</th>\n",
       "      <td>Paul Tudor Jones, II.</td>\n",
       "      <td>69</td>\n",
       "      <td>$8.1 B</td>\n",
       "      <td>Florida</td>\n",
       "    </tr>\n",
       "    <tr>\n",
       "      <th>19</th>\n",
       "      <td>Steven Rales</td>\n",
       "      <td>72</td>\n",
       "      <td>$8.1 B</td>\n",
       "      <td>California</td>\n",
       "    </tr>\n",
       "    <tr>\n",
       "      <th>20</th>\n",
       "      <td>Antony Ressler</td>\n",
       "      <td>62</td>\n",
       "      <td>$8.1 B</td>\n",
       "      <td>California</td>\n",
       "    </tr>\n",
       "    <tr>\n",
       "      <th>21</th>\n",
       "      <td>Leonard Stern</td>\n",
       "      <td>85</td>\n",
       "      <td>$8.1 B</td>\n",
       "      <td>New York</td>\n",
       "    </tr>\n",
       "    <tr>\n",
       "      <th>22</th>\n",
       "      <td>Rocco Commisso</td>\n",
       "      <td>73</td>\n",
       "      <td>$8 B</td>\n",
       "      <td>New Jersey</td>\n",
       "    </tr>\n",
       "    <tr>\n",
       "      <th>23</th>\n",
       "      <td>Tilman Fertitta</td>\n",
       "      <td>66</td>\n",
       "      <td>$8 B</td>\n",
       "      <td>Texas</td>\n",
       "    </tr>\n",
       "    <tr>\n",
       "      <th>24</th>\n",
       "      <td>David Geffen</td>\n",
       "      <td>80</td>\n",
       "      <td>$8 B</td>\n",
       "      <td>California</td>\n",
       "    </tr>\n",
       "    <tr>\n",
       "      <th>25</th>\n",
       "      <td>John Morris</td>\n",
       "      <td>75</td>\n",
       "      <td>$8 B</td>\n",
       "      <td>Missouri</td>\n",
       "    </tr>\n",
       "    <tr>\n",
       "      <th>26</th>\n",
       "      <td>Arthur Blank</td>\n",
       "      <td>81</td>\n",
       "      <td>$7.9 B</td>\n",
       "      <td>Georgia</td>\n",
       "    </tr>\n",
       "    <tr>\n",
       "      <th>27</th>\n",
       "      <td>Bruce Kovner</td>\n",
       "      <td>78</td>\n",
       "      <td>$7.7 B</td>\n",
       "      <td>New York</td>\n",
       "    </tr>\n",
       "    <tr>\n",
       "      <th>28</th>\n",
       "      <td>Igor Olenicoff</td>\n",
       "      <td>81</td>\n",
       "      <td>$7.7 B</td>\n",
       "      <td>Florida</td>\n",
       "    </tr>\n",
       "    <tr>\n",
       "      <th>29</th>\n",
       "      <td>Charles Butt</td>\n",
       "      <td>85</td>\n",
       "      <td>$7.6 B</td>\n",
       "      <td>Texas</td>\n",
       "    </tr>\n",
       "  </tbody>\n",
       "</table>\n",
       "</div>"
      ],
      "text/plain": [
       "                         Name Age Networth           State\n",
       "0              Ramzi Musallam  55     $9 B        New York\n",
       "1        J. Christopher Reyes  69     $9 B         Florida\n",
       "2                  Jude Reyes  68     $9 B         Florida\n",
       "3              Charles Schwab  86     $9 B      California\n",
       "4                  Joe Gebbia  42   $8.9 B           Texas\n",
       "5                Henry Kravis  79   $8.9 B        New York\n",
       "6   Pauline MacMillan Keinath  89   $8.8 B        Missouri\n",
       "7               Orlando Bravo  53   $8.7 B         Florida\n",
       "8                Jimmy Haslam  69   $8.7 B       Tennessee\n",
       "9           Elizabeth Johnson  60   $8.7 B   Massachusetts\n",
       "10            James Goodnight  80   $8.5 B  North Carolina\n",
       "11       Henry Nicholas, III.  63   $8.5 B      California\n",
       "12               Marc Benioff  59   $8.4 B      California\n",
       "13                Robert Pera  45   $8.3 B      California\n",
       "14                 David Shaw  72   $8.3 B        New York\n",
       "15  Elisabeth DeLuca & family  76   $8.2 B         Florida\n",
       "16            Jack Dangermond  78   $8.1 B      California\n",
       "17                  Tom Gores  59   $8.1 B      California\n",
       "18      Paul Tudor Jones, II.  69   $8.1 B         Florida\n",
       "19               Steven Rales  72   $8.1 B      California\n",
       "20             Antony Ressler  62   $8.1 B      California\n",
       "21              Leonard Stern  85   $8.1 B        New York\n",
       "22             Rocco Commisso  73     $8 B      New Jersey\n",
       "23            Tilman Fertitta  66     $8 B           Texas\n",
       "24               David Geffen  80     $8 B      California\n",
       "25                John Morris  75     $8 B        Missouri\n",
       "26               Arthur Blank  81   $7.9 B         Georgia\n",
       "27               Bruce Kovner  78   $7.7 B        New York\n",
       "28             Igor Olenicoff  81   $7.7 B         Florida\n",
       "29               Charles Butt  85   $7.6 B           Texas"
      ]
     },
     "execution_count": 50,
     "metadata": {},
     "output_type": "execute_result"
    }
   ],
   "source": [
    "df"
   ]
  },
  {
   "cell_type": "code",
   "execution_count": 51,
   "id": "b3be04f2-4d01-4966-bc2f-69a74ed67ac6",
   "metadata": {
    "tags": []
   },
   "outputs": [],
   "source": [
    "driver.close()"
   ]
  },
  {
   "cell_type": "code",
   "execution_count": 11,
   "id": "0a1941c1-083b-4611-9562-6d26a16e7fae",
   "metadata": {
    "tags": []
   },
   "outputs": [],
   "source": [
    "import selenium\n",
    "from selenium import webdriver\n",
    "from selenium.webdriver.common.by import By\n",
    "import warnings\n",
    "warnings.filterwarnings('ignore')\n",
    "from selenium.common.exceptions import StaleElementReferenceException, NoSuchElementException\n",
    "import time\n"
   ]
  },
  {
   "cell_type": "code",
   "execution_count": 12,
   "id": "688cedc0-36d7-49dd-82c6-a8f4a9873350",
   "metadata": {
    "tags": []
   },
   "outputs": [],
   "source": [
    "driver= webdriver.Chrome()"
   ]
  },
  {
   "cell_type": "code",
   "execution_count": 13,
   "id": "4f1718d1-beb4-4db2-8d39-f095e3274e17",
   "metadata": {
    "tags": []
   },
   "outputs": [],
   "source": [
    "driver.get('https://www.youtube.com/')"
   ]
  },
  {
   "cell_type": "code",
   "execution_count": 14,
   "id": "86770b29-beeb-41c7-8fc9-3bd3c8183c28",
   "metadata": {
    "tags": []
   },
   "outputs": [],
   "source": [
    "search = driver.find_element(By.XPATH,'/html/body/ytd-app/div[1]/div/ytd-masthead/div[4]/div[2]/ytd-searchbox/form/div[1]/div[1]/input')\n",
    "search.send_keys('pixel 8a')"
   ]
  },
  {
   "cell_type": "code",
   "execution_count": 15,
   "id": "25b34fb7-6e9f-44d0-b96c-b1d371fbdeef",
   "metadata": {
    "tags": []
   },
   "outputs": [],
   "source": [
    "submit= driver.find_element(By.XPATH,'/html/body/ytd-app/div[1]/div/ytd-masthead/div[4]/div[2]/ytd-searchbox/button/yt-icon/yt-icon-shape/icon-shape/div')\n",
    "submit.click()"
   ]
  },
  {
   "cell_type": "code",
   "execution_count": 16,
   "id": "c36e61ad-84da-4e30-8dcc-6dfcf58aa34e",
   "metadata": {
    "tags": []
   },
   "outputs": [],
   "source": [
    "link= driver.find_element(By.XPATH,'/html/body/ytd-app/div[1]/ytd-page-manager/ytd-search/div[1]/ytd-two-column-search-results-renderer/div/ytd-section-list-renderer/div[2]/ytd-item-section-renderer/div[3]/ytd-video-renderer[2]/div[1]/div/div[1]/div/h3/a/yt-formatted-string')\n",
    "link.click()"
   ]
  },
  {
   "cell_type": "code",
   "execution_count": 21,
   "id": "5ad0af7e-ebc3-40bf-9aac-7f9f27a02c90",
   "metadata": {
    "tags": []
   },
   "outputs": [],
   "source": [
    "#play = driver.find_element(By.XPATH,'/html/body/ytd-app/div[1]/ytd-page-manager/ytd-watch-flexy/div[5]/div[1]/div/div[1]/div[2]/div/div/ytd-player/div/div/div[34]/div[2]/div[1]/button')\n",
    "#play.click()"
   ]
  },
  {
   "cell_type": "code",
   "execution_count": 36,
   "id": "a9204639-4090-496e-b07d-4f9bfcb19be6",
   "metadata": {},
   "outputs": [],
   "source": [
    "comm= driver.find_elements(By.XPATH,'//span[@class=\"yt-core-attributed-string yt-core-attributed-string--white-space-pre-wrap\"]')\n",
    "for _ in range(1000):\n",
    "    for i in comm:\n",
    "        try:\n",
    "            comment.append(i.text)\n",
    "                    \n",
    "        except NoSuchElementException:\n",
    "            comment.append('NA NA NA')\n"
   ]
  },
  {
   "cell_type": "code",
   "execution_count": 37,
   "id": "3ba79b5b-c983-41af-ba35-0375b8b71660",
   "metadata": {
    "tags": []
   },
   "outputs": [
    {
     "data": {
      "text/plain": [
       "70117"
      ]
     },
     "execution_count": 37,
     "metadata": {},
     "output_type": "execute_result"
    }
   ],
   "source": [
    "len(comment)"
   ]
  },
  {
   "cell_type": "code",
   "execution_count": 33,
   "id": "1bddd33d-ec6d-4b7c-b86c-28c518b52d3a",
   "metadata": {
    "tags": []
   },
   "outputs": [
    {
     "data": {
      "text/plain": [
       "['I didnt expected the photos of the xperia were still so good in comparison. do we miss night photography though? i mean i love xperia i have one here the 5ii and i have a google here too the 6a but i always thought the sony xperia 10 series were pretty bad in the camera department.',\n",
       " 'So, camera of Xperia is as good as A55? Or is it worse? Thanks for this video. I would like to buy something not expensive with not bad camera and battery. Non China',\n",
       " 'thank you very much for the test, but please tell me who do I have to kill or sleep with  so that you can do the same test but on a 4G/wifi mix?  Preferably with Xperia 5 V, 10 VI, Pixel 8/8a and iPhone 15 and possibly S24 (Exynos from the European market)',\n",
       " '',\n",
       " 'no love for the OnePlus 12R?',\n",
       " '',\n",
       " '',\n",
       " '',\n",
       " '',\n",
       " '',\n",
       " '',\n",
       " '',\n",
       " \"What is the best mid-range smartphone in terms of battery life, performance, and camera? I am going to compare four of them in this video, Sony's latest midrange phone which is Xperia 10 VI vs Pixel 8a, Samsung A55, and Samsung A35. All of these phones are almost under 500 USD. \",\n",
       " 'It seems that this year no one is competing with Sony phones In terms of battery life performance \\nXperia 1vi  & Xperia 10 vi\\nThey have amazing battery life',\n",
       " 'Its funny how the exynos flagship is (still) lagging behind in terms of efficiency but their midrange turns out to pretty good',\n",
       " 'A55 IS GREAT IN ALL ASPECTS ',\n",
       " 'Sony Xperia 10VI ',\n",
       " \"Really like your methods, surprised the outside test isn't common amongst other tech reviewers. Great video\",\n",
       " 'all people know Xperia  phone battery unbeatable even iphone  pro cant beat it.',\n",
       " 'A55 is great']"
      ]
     },
     "execution_count": 33,
     "metadata": {},
     "output_type": "execute_result"
    }
   ],
   "source": [
    "comment[100:120]"
   ]
  },
  {
   "cell_type": "code",
   "execution_count": 38,
   "id": "68583430-0cee-4338-8c42-dee3c81adea1",
   "metadata": {
    "tags": []
   },
   "outputs": [],
   "source": [
    "day=[]\n",
    "d=driver.find_elements(By.XPATH,'//span[@class=\"style-scope ytd-comment-view-model\"]/a')\n",
    "for _ in range(1000):\n",
    "    for i in d:\n",
    "        try:\n",
    "            day.append(i.text)\n",
    "                    \n",
    "        except NoSuchElementException:\n",
    "            day.append('NA NA NA')\n"
   ]
  },
  {
   "cell_type": "code",
   "execution_count": 39,
   "id": "9afdb39f-518c-4a1b-bb3a-3f63abca53e0",
   "metadata": {
    "tags": []
   },
   "outputs": [
    {
     "data": {
      "text/plain": [
       "22000"
      ]
     },
     "execution_count": 39,
     "metadata": {},
     "output_type": "execute_result"
    }
   ],
   "source": [
    "len(day)"
   ]
  },
  {
   "cell_type": "code",
   "execution_count": 43,
   "id": "c6cbb273-19ec-471e-9dcc-aa92298c6d1e",
   "metadata": {
    "tags": []
   },
   "outputs": [],
   "source": [
    "import pandas as pd\n",
    "df= pd.DataFrame({'Comment':comment[40:60],'Day':day[40:60]})"
   ]
  },
  {
   "cell_type": "code",
   "execution_count": 44,
   "id": "b9257fc6-fd71-4bae-bd4a-1d254c222a9d",
   "metadata": {
    "tags": []
   },
   "outputs": [
    {
     "data": {
      "text/html": [
       "<div>\n",
       "<style scoped>\n",
       "    .dataframe tbody tr th:only-of-type {\n",
       "        vertical-align: middle;\n",
       "    }\n",
       "\n",
       "    .dataframe tbody tr th {\n",
       "        vertical-align: top;\n",
       "    }\n",
       "\n",
       "    .dataframe thead th {\n",
       "        text-align: right;\n",
       "    }\n",
       "</style>\n",
       "<table border=\"1\" class=\"dataframe\">\n",
       "  <thead>\n",
       "    <tr style=\"text-align: right;\">\n",
       "      <th></th>\n",
       "      <th>Comment</th>\n",
       "      <th>Day</th>\n",
       "    </tr>\n",
       "  </thead>\n",
       "  <tbody>\n",
       "    <tr>\n",
       "      <th>0</th>\n",
       "      <td>King: sony</td>\n",
       "      <td>20 hours ago</td>\n",
       "    </tr>\n",
       "    <tr>\n",
       "      <th>1</th>\n",
       "      <td>My Tensor G3 Geekbench multicore scores are al...</td>\n",
       "      <td>1 day ago</td>\n",
       "    </tr>\n",
       "    <tr>\n",
       "      <th>2</th>\n",
       "      <td>omg 10 vi</td>\n",
       "      <td>1 day ago</td>\n",
       "    </tr>\n",
       "    <tr>\n",
       "      <th>3</th>\n",
       "      <td>Can you  tell me what app are you using to mea...</td>\n",
       "      <td>1 day ago</td>\n",
       "    </tr>\n",
       "    <tr>\n",
       "      <th>4</th>\n",
       "      <td>I didnt expected the photos of the xperia were...</td>\n",
       "      <td>1 day ago</td>\n",
       "    </tr>\n",
       "    <tr>\n",
       "      <th>5</th>\n",
       "      <td>So, camera of Xperia is as good as A55? Or is ...</td>\n",
       "      <td>1 day ago</td>\n",
       "    </tr>\n",
       "    <tr>\n",
       "      <th>6</th>\n",
       "      <td>thank you very much for the test, but please t...</td>\n",
       "      <td>1 day ago</td>\n",
       "    </tr>\n",
       "    <tr>\n",
       "      <th>7</th>\n",
       "      <td></td>\n",
       "      <td>22 hours ago (edited)</td>\n",
       "    </tr>\n",
       "    <tr>\n",
       "      <th>8</th>\n",
       "      <td>no love for the OnePlus 12R?</td>\n",
       "      <td>1 day ago (edited)</td>\n",
       "    </tr>\n",
       "    <tr>\n",
       "      <th>9</th>\n",
       "      <td></td>\n",
       "      <td>14 hours ago</td>\n",
       "    </tr>\n",
       "    <tr>\n",
       "      <th>10</th>\n",
       "      <td></td>\n",
       "      <td>20 hours ago</td>\n",
       "    </tr>\n",
       "    <tr>\n",
       "      <th>11</th>\n",
       "      <td></td>\n",
       "      <td>1 day ago</td>\n",
       "    </tr>\n",
       "    <tr>\n",
       "      <th>12</th>\n",
       "      <td></td>\n",
       "      <td>1 day ago</td>\n",
       "    </tr>\n",
       "    <tr>\n",
       "      <th>13</th>\n",
       "      <td></td>\n",
       "      <td>1 day ago</td>\n",
       "    </tr>\n",
       "    <tr>\n",
       "      <th>14</th>\n",
       "      <td></td>\n",
       "      <td>19 hours ago (edited)</td>\n",
       "    </tr>\n",
       "    <tr>\n",
       "      <th>15</th>\n",
       "      <td></td>\n",
       "      <td>1 day ago</td>\n",
       "    </tr>\n",
       "    <tr>\n",
       "      <th>16</th>\n",
       "      <td>What is the best mid-range smartphone in terms...</td>\n",
       "      <td>16 hours ago</td>\n",
       "    </tr>\n",
       "    <tr>\n",
       "      <th>17</th>\n",
       "      <td>It seems that this year no one is competing wi...</td>\n",
       "      <td>3 minutes ago</td>\n",
       "    </tr>\n",
       "    <tr>\n",
       "      <th>18</th>\n",
       "      <td>Its funny how the exynos flagship is (still) l...</td>\n",
       "      <td>1 day ago</td>\n",
       "    </tr>\n",
       "    <tr>\n",
       "      <th>19</th>\n",
       "      <td>A55 IS GREAT IN ALL ASPECTS</td>\n",
       "      <td>1 day ago</td>\n",
       "    </tr>\n",
       "  </tbody>\n",
       "</table>\n",
       "</div>"
      ],
      "text/plain": [
       "                                              Comment                    Day\n",
       "0                                          King: sony           20 hours ago\n",
       "1   My Tensor G3 Geekbench multicore scores are al...              1 day ago\n",
       "2                                          omg 10 vi               1 day ago\n",
       "3   Can you  tell me what app are you using to mea...              1 day ago\n",
       "4   I didnt expected the photos of the xperia were...              1 day ago\n",
       "5   So, camera of Xperia is as good as A55? Or is ...              1 day ago\n",
       "6   thank you very much for the test, but please t...              1 day ago\n",
       "7                                                      22 hours ago (edited)\n",
       "8                        no love for the OnePlus 12R?     1 day ago (edited)\n",
       "9                                                               14 hours ago\n",
       "10                                                              20 hours ago\n",
       "11                                                                 1 day ago\n",
       "12                                                                 1 day ago\n",
       "13                                                                 1 day ago\n",
       "14                                                     19 hours ago (edited)\n",
       "15                                                                 1 day ago\n",
       "16  What is the best mid-range smartphone in terms...           16 hours ago\n",
       "17  It seems that this year no one is competing wi...          3 minutes ago\n",
       "18  Its funny how the exynos flagship is (still) l...              1 day ago\n",
       "19                       A55 IS GREAT IN ALL ASPECTS               1 day ago"
      ]
     },
     "execution_count": 44,
     "metadata": {},
     "output_type": "execute_result"
    }
   ],
   "source": [
    "df"
   ]
  },
  {
   "cell_type": "code",
   "execution_count": null,
   "id": "746103a4-2da9-42c2-884c-a9acbfc5ff0c",
   "metadata": {},
   "outputs": [],
   "source": []
  }
 ],
 "metadata": {
  "kernelspec": {
   "display_name": "Python 3 (ipykernel)",
   "language": "python",
   "name": "python3"
  },
  "language_info": {
   "codemirror_mode": {
    "name": "ipython",
    "version": 3
   },
   "file_extension": ".py",
   "mimetype": "text/x-python",
   "name": "python",
   "nbconvert_exporter": "python",
   "pygments_lexer": "ipython3",
   "version": "3.11.5"
  }
 },
 "nbformat": 4,
 "nbformat_minor": 5
}
