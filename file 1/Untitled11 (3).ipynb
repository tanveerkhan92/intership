{
 "cells": [
  {
   "cell_type": "code",
   "execution_count": 1,
   "id": "50bf280b-9922-4199-9241-d6bec5212233",
   "metadata": {
    "tags": []
   },
   "outputs": [],
   "source": [
    "import selenium\n",
    "from selenium import webdriver\n",
    "from selenium.webdriver.common.by import By\n",
    "import pandas as pd\n",
    "import time\n",
    "from bs4 import BeautifulSoup\n",
    "from selenium.common.exceptions import StaleElementReferenceException, NoSuchElementException\n",
    "import requests"
   ]
  },
  {
   "cell_type": "code",
   "execution_count": 2,
   "id": "dcef40df-2348-480c-8a99-c0cfbea07c2a",
   "metadata": {
    "tags": []
   },
   "outputs": [],
   "source": [
    "driver = webdriver.Chrome()"
   ]
  },
  {
   "cell_type": "code",
   "execution_count": 3,
   "id": "226cd66c-a852-4245-893a-fe24f542c6be",
   "metadata": {
    "tags": []
   },
   "outputs": [],
   "source": [
    "driver.get('https://www.amazon.in/')"
   ]
  },
  {
   "cell_type": "code",
   "execution_count": 5,
   "id": "1bbddb82-5a97-425e-8795-a6647b4a8b17",
   "metadata": {
    "tags": []
   },
   "outputs": [],
   "source": [
    "search = driver.find_element(By.XPATH,'/html/body/div[1]/header/div/div[1]/div[2]/div/form/div[2]/div[1]/input')\n",
    "search.send_keys('guitar')"
   ]
  },
  {
   "cell_type": "code",
   "execution_count": 6,
   "id": "2993e33d-c379-4450-a86f-e04f9659489e",
   "metadata": {
    "tags": []
   },
   "outputs": [],
   "source": [
    "submit = driver.find_element(By.XPATH,'/html/body/div[1]/header/div/div[1]/div[2]/div/form/div[3]/div/span/input')\n",
    "submit.click()"
   ]
  },
  {
   "cell_type": "code",
   "execution_count": 8,
   "id": "efc712c5-0d89-4bd5-9d83-f8d150b63666",
   "metadata": {
    "tags": []
   },
   "outputs": [],
   "source": [
    "guitar_url=[]\n",
    "for page in range(0,3):\n",
    "    url= driver.find_elements(By.XPATH,'//a[@class=\"a-link-normal s-underline-text s-underline-link-text s-link-style a-text-normal\"]')\n",
    "    for i in url:\n",
    "        guitar_url.append(i.get_attribute('href'))\n",
    "    next= driver.find_element(By.XPATH,'/html/body/div[1]/div[1]/div[1]/div[1]/div/span[1]/div[1]/div[67]/div/div/span/a[3]')\n",
    "    "
   ]
  },
  {
   "cell_type": "code",
   "execution_count": 9,
   "id": "5cffefab-d339-4886-99e0-2fc11fb359b8",
   "metadata": {
    "tags": []
   },
   "outputs": [
    {
     "data": {
      "text/plain": [
       "186"
      ]
     },
     "execution_count": 9,
     "metadata": {},
     "output_type": "execute_result"
    }
   ],
   "source": [
    "len(guitar_url)"
   ]
  },
  {
   "cell_type": "code",
   "execution_count": 10,
   "id": "63624a82-674a-4a69-9688-4266672437f6",
   "metadata": {
    "tags": []
   },
   "outputs": [],
   "source": [
    "brand=[]\n",
    "for i in guitar_url:\n",
    "    driver.get(i)\n",
    "    time.sleep(5)\n",
    "    try:\n",
    "        name= driver.find_element(By.CLASS_NAME,'a-size-base po-break-word')\n",
    "        brand.append(name.text)\n",
    "    except NoSuchElementException:\n",
    "        brand.append('!!!!!Not Present!!!!!')\n",
    "    "
   ]
  },
  {
   "cell_type": "code",
   "execution_count": 11,
   "id": "acb83280-2f05-4836-9441-b02002619f87",
   "metadata": {
    "tags": []
   },
   "outputs": [],
   "source": [
    "df=pd.DataFrame({'Brand Name':brand})"
   ]
  },
  {
   "cell_type": "code",
   "execution_count": 12,
   "id": "ed44b3f4-15e5-4c97-9618-10b748278341",
   "metadata": {
    "tags": []
   },
   "outputs": [
    {
     "data": {
      "text/html": [
       "<div>\n",
       "<style scoped>\n",
       "    .dataframe tbody tr th:only-of-type {\n",
       "        vertical-align: middle;\n",
       "    }\n",
       "\n",
       "    .dataframe tbody tr th {\n",
       "        vertical-align: top;\n",
       "    }\n",
       "\n",
       "    .dataframe thead th {\n",
       "        text-align: right;\n",
       "    }\n",
       "</style>\n",
       "<table border=\"1\" class=\"dataframe\">\n",
       "  <thead>\n",
       "    <tr style=\"text-align: right;\">\n",
       "      <th></th>\n",
       "      <th>Brand Name</th>\n",
       "    </tr>\n",
       "  </thead>\n",
       "  <tbody>\n",
       "    <tr>\n",
       "      <th>0</th>\n",
       "      <td>!!!!!Not Present!!!!!</td>\n",
       "    </tr>\n",
       "    <tr>\n",
       "      <th>1</th>\n",
       "      <td>!!!!!Not Present!!!!!</td>\n",
       "    </tr>\n",
       "    <tr>\n",
       "      <th>2</th>\n",
       "      <td>!!!!!Not Present!!!!!</td>\n",
       "    </tr>\n",
       "    <tr>\n",
       "      <th>3</th>\n",
       "      <td>!!!!!Not Present!!!!!</td>\n",
       "    </tr>\n",
       "    <tr>\n",
       "      <th>4</th>\n",
       "      <td>!!!!!Not Present!!!!!</td>\n",
       "    </tr>\n",
       "    <tr>\n",
       "      <th>...</th>\n",
       "      <td>...</td>\n",
       "    </tr>\n",
       "    <tr>\n",
       "      <th>181</th>\n",
       "      <td>!!!!!Not Present!!!!!</td>\n",
       "    </tr>\n",
       "    <tr>\n",
       "      <th>182</th>\n",
       "      <td>!!!!!Not Present!!!!!</td>\n",
       "    </tr>\n",
       "    <tr>\n",
       "      <th>183</th>\n",
       "      <td>!!!!!Not Present!!!!!</td>\n",
       "    </tr>\n",
       "    <tr>\n",
       "      <th>184</th>\n",
       "      <td>!!!!!Not Present!!!!!</td>\n",
       "    </tr>\n",
       "    <tr>\n",
       "      <th>185</th>\n",
       "      <td>!!!!!Not Present!!!!!</td>\n",
       "    </tr>\n",
       "  </tbody>\n",
       "</table>\n",
       "<p>186 rows × 1 columns</p>\n",
       "</div>"
      ],
      "text/plain": [
       "                Brand Name\n",
       "0    !!!!!Not Present!!!!!\n",
       "1    !!!!!Not Present!!!!!\n",
       "2    !!!!!Not Present!!!!!\n",
       "3    !!!!!Not Present!!!!!\n",
       "4    !!!!!Not Present!!!!!\n",
       "..                     ...\n",
       "181  !!!!!Not Present!!!!!\n",
       "182  !!!!!Not Present!!!!!\n",
       "183  !!!!!Not Present!!!!!\n",
       "184  !!!!!Not Present!!!!!\n",
       "185  !!!!!Not Present!!!!!\n",
       "\n",
       "[186 rows x 1 columns]"
      ]
     },
     "execution_count": 12,
     "metadata": {},
     "output_type": "execute_result"
    }
   ],
   "source": [
    "df"
   ]
  },
  {
   "cell_type": "code",
   "execution_count": 24,
   "id": "0f5aa0cd-be9e-47ef-afa9-b30123d26dda",
   "metadata": {
    "tags": []
   },
   "outputs": [],
   "source": [
    "import selenium\n",
    "from selenium import webdriver\n",
    "from selenium.webdriver.common.by import By\n",
    "import warnings\n",
    "warnings.filterwarnings('ignore')\n",
    "from bs4 import BeautifulSoup\n",
    "from selenium.common.exceptions import StaleElementReferenceException, NoSuchElementException\n",
    "import requests"
   ]
  },
  {
   "cell_type": "code",
   "execution_count": 25,
   "id": "6e798c65-e655-413e-85c8-cd5a7fc39074",
   "metadata": {
    "tags": []
   },
   "outputs": [],
   "source": [
    "driver = webdriver.Chrome()"
   ]
  },
  {
   "cell_type": "code",
   "execution_count": 26,
   "id": "684054fc-f179-4ea6-827e-a47284c2362b",
   "metadata": {
    "tags": []
   },
   "outputs": [],
   "source": [
    "driver.get('https://images.google.com/')"
   ]
  },
  {
   "cell_type": "code",
   "execution_count": 27,
   "id": "5e937184-639c-44a2-980f-e709cc3f4d51",
   "metadata": {
    "tags": []
   },
   "outputs": [],
   "source": [
    "search= driver.find_element(By.XPATH,'/html/body/div[1]/div[3]/form/div[1]/div[1]/div[1]/div/div[2]/textarea')\n",
    "search.send_keys('fruits')"
   ]
  },
  {
   "cell_type": "code",
   "execution_count": 31,
   "id": "ea4702b9-0e62-417c-88db-3c89bb095da0",
   "metadata": {
    "tags": []
   },
   "outputs": [],
   "source": [
    "submit = driver.find_element(By.XPATH,'/html/body/div[1]/div[3]/form/div[1]/div[1]/div[1]/button/div/span')\n",
    "submit.click()"
   ]
  },
  {
   "cell_type": "code",
   "execution_count": 32,
   "id": "a5f9c8da-fab3-4bc2-97db-0ed2ac9ff28b",
   "metadata": {
    "tags": []
   },
   "outputs": [],
   "source": [
    "image=[]\n",
    "ima= driver.find_elements(By.XPATH,'//g-img[@class=\"tb08Pd\"]/img')\n",
    "for i in ima:\n",
    "    image.append(i.get_attribute('src'))\n"
   ]
  },
  {
   "cell_type": "code",
   "execution_count": 35,
   "id": "86a3aa97-57dd-4325-8b3a-0e6084961ffc",
   "metadata": {
    "tags": []
   },
   "outputs": [],
   "source": [
    "search1= driver.find_element(By.XPATH,'/html/body/div[2]/div[2]/form/div[1]/div[1]/div[2]/div/div[2]/textarea')\n",
    "search1.clear()\n",
    "search1.send_keys('car')"
   ]
  },
  {
   "cell_type": "code",
   "execution_count": 36,
   "id": "cc2dea21-80bf-44b1-910d-fdaf085f5a41",
   "metadata": {
    "tags": []
   },
   "outputs": [],
   "source": [
    "submit1 = driver.find_element(By.XPATH,'/html/body/div[2]/div[2]/form/div[1]/div[1]/div[2]/button/div/span')\n",
    "submit1.click()"
   ]
  },
  {
   "cell_type": "code",
   "execution_count": 40,
   "id": "fef8ed82-d844-4da7-94f2-ee23f12a7705",
   "metadata": {
    "tags": []
   },
   "outputs": [],
   "source": [
    "imagecar=[]\n",
    "im = driver.find_elements(By.XPATH,'//g-img[@class=\"mNsIhb\"]/img')\n",
    "for i in im:\n",
    "    imagecar.append(i.get_attribute('src'))"
   ]
  },
  {
   "cell_type": "code",
   "execution_count": 42,
   "id": "14e1b8f9-ee07-46ea-bcb7-7e6da04dfd05",
   "metadata": {
    "tags": []
   },
   "outputs": [],
   "source": [
    "df=pd.DataFrame({'Fruit':image[:20],'Car':imagecar[:20]})"
   ]
  },
  {
   "cell_type": "code",
   "execution_count": 43,
   "id": "b08b7856-631a-4490-add4-f09031ca266a",
   "metadata": {
    "tags": []
   },
   "outputs": [
    {
     "data": {
      "text/html": [
       "<div>\n",
       "<style scoped>\n",
       "    .dataframe tbody tr th:only-of-type {\n",
       "        vertical-align: middle;\n",
       "    }\n",
       "\n",
       "    .dataframe tbody tr th {\n",
       "        vertical-align: top;\n",
       "    }\n",
       "\n",
       "    .dataframe thead th {\n",
       "        text-align: right;\n",
       "    }\n",
       "</style>\n",
       "<table border=\"1\" class=\"dataframe\">\n",
       "  <thead>\n",
       "    <tr style=\"text-align: right;\">\n",
       "      <th></th>\n",
       "      <th>Fruit</th>\n",
       "      <th>Car</th>\n",
       "    </tr>\n",
       "  </thead>\n",
       "  <tbody>\n",
       "    <tr>\n",
       "      <th>0</th>\n",
       "      <td>data:image/jpeg;base64,/9j/4AAQSkZJRgABAQAAAQA...</td>\n",
       "      <td>data:image/jpeg;base64,/9j/4AAQSkZJRgABAQAAAQA...</td>\n",
       "    </tr>\n",
       "    <tr>\n",
       "      <th>1</th>\n",
       "      <td>data:image/jpeg;base64,/9j/4AAQSkZJRgABAQAAAQA...</td>\n",
       "      <td>data:image/jpeg;base64,/9j/4AAQSkZJRgABAQAAAQA...</td>\n",
       "    </tr>\n",
       "    <tr>\n",
       "      <th>2</th>\n",
       "      <td>https://encrypted-tbn0.gstatic.com/images?q=tb...</td>\n",
       "      <td>data:image/jpeg;base64,/9j/4AAQSkZJRgABAQAAAQA...</td>\n",
       "    </tr>\n",
       "    <tr>\n",
       "      <th>3</th>\n",
       "      <td>data:image/gif;base64,R0lGODlhAQABAIAAAP//////...</td>\n",
       "      <td>data:image/jpeg;base64,/9j/4AAQSkZJRgABAQAAAQA...</td>\n",
       "    </tr>\n",
       "    <tr>\n",
       "      <th>4</th>\n",
       "      <td>data:image/gif;base64,R0lGODlhAQABAIAAAP//////...</td>\n",
       "      <td>data:image/jpeg;base64,/9j/4AAQSkZJRgABAQAAAQA...</td>\n",
       "    </tr>\n",
       "    <tr>\n",
       "      <th>5</th>\n",
       "      <td>data:image/gif;base64,R0lGODlhAQABAIAAAP//////...</td>\n",
       "      <td>data:image/jpeg;base64,/9j/4AAQSkZJRgABAQAAAQA...</td>\n",
       "    </tr>\n",
       "    <tr>\n",
       "      <th>6</th>\n",
       "      <td>data:image/gif;base64,R0lGODlhAQABAIAAAP//////...</td>\n",
       "      <td>data:image/jpeg;base64,/9j/4AAQSkZJRgABAQAAAQA...</td>\n",
       "    </tr>\n",
       "    <tr>\n",
       "      <th>7</th>\n",
       "      <td>data:image/gif;base64,R0lGODlhAQABAIAAAP//////...</td>\n",
       "      <td>data:image/jpeg;base64,/9j/4AAQSkZJRgABAQAAAQA...</td>\n",
       "    </tr>\n",
       "    <tr>\n",
       "      <th>8</th>\n",
       "      <td>data:image/gif;base64,R0lGODlhAQABAIAAAP//////...</td>\n",
       "      <td>data:image/jpeg;base64,/9j/4AAQSkZJRgABAQAAAQA...</td>\n",
       "    </tr>\n",
       "    <tr>\n",
       "      <th>9</th>\n",
       "      <td>data:image/gif;base64,R0lGODlhAQABAIAAAP//////...</td>\n",
       "      <td>data:image/png;base64,iVBORw0KGgoAAAANSUhEUgAA...</td>\n",
       "    </tr>\n",
       "    <tr>\n",
       "      <th>10</th>\n",
       "      <td>data:image/gif;base64,R0lGODlhAQABAIAAAP//////...</td>\n",
       "      <td>https://encrypted-tbn0.gstatic.com/images?q=tb...</td>\n",
       "    </tr>\n",
       "    <tr>\n",
       "      <th>11</th>\n",
       "      <td>data:image/gif;base64,R0lGODlhAQABAIAAAP//////...</td>\n",
       "      <td>https://encrypted-tbn0.gstatic.com/images?q=tb...</td>\n",
       "    </tr>\n",
       "    <tr>\n",
       "      <th>12</th>\n",
       "      <td>data:image/gif;base64,R0lGODlhAQABAIAAAP//////...</td>\n",
       "      <td>https://encrypted-tbn0.gstatic.com/images?q=tb...</td>\n",
       "    </tr>\n",
       "    <tr>\n",
       "      <th>13</th>\n",
       "      <td>data:image/gif;base64,R0lGODlhAQABAIAAAP//////...</td>\n",
       "      <td>https://encrypted-tbn0.gstatic.com/images?q=tb...</td>\n",
       "    </tr>\n",
       "    <tr>\n",
       "      <th>14</th>\n",
       "      <td>data:image/gif;base64,R0lGODlhAQABAIAAAP//////...</td>\n",
       "      <td>https://encrypted-tbn0.gstatic.com/images?q=tb...</td>\n",
       "    </tr>\n",
       "    <tr>\n",
       "      <th>15</th>\n",
       "      <td>data:image/gif;base64,R0lGODlhAQABAIAAAP//////...</td>\n",
       "      <td>https://encrypted-tbn0.gstatic.com/images?q=tb...</td>\n",
       "    </tr>\n",
       "    <tr>\n",
       "      <th>16</th>\n",
       "      <td>data:image/gif;base64,R0lGODlhAQABAIAAAP//////...</td>\n",
       "      <td>https://encrypted-tbn0.gstatic.com/images?q=tb...</td>\n",
       "    </tr>\n",
       "    <tr>\n",
       "      <th>17</th>\n",
       "      <td>data:image/gif;base64,R0lGODlhAQABAIAAAP//////...</td>\n",
       "      <td>https://encrypted-tbn0.gstatic.com/images?q=tb...</td>\n",
       "    </tr>\n",
       "    <tr>\n",
       "      <th>18</th>\n",
       "      <td>data:image/gif;base64,R0lGODlhAQABAIAAAP//////...</td>\n",
       "      <td>https://encrypted-tbn0.gstatic.com/images?q=tb...</td>\n",
       "    </tr>\n",
       "    <tr>\n",
       "      <th>19</th>\n",
       "      <td>data:image/gif;base64,R0lGODlhAQABAIAAAP//////...</td>\n",
       "      <td>https://encrypted-tbn0.gstatic.com/images?q=tb...</td>\n",
       "    </tr>\n",
       "  </tbody>\n",
       "</table>\n",
       "</div>"
      ],
      "text/plain": [
       "                                                Fruit  \\\n",
       "0   data:image/jpeg;base64,/9j/4AAQSkZJRgABAQAAAQA...   \n",
       "1   data:image/jpeg;base64,/9j/4AAQSkZJRgABAQAAAQA...   \n",
       "2   https://encrypted-tbn0.gstatic.com/images?q=tb...   \n",
       "3   data:image/gif;base64,R0lGODlhAQABAIAAAP//////...   \n",
       "4   data:image/gif;base64,R0lGODlhAQABAIAAAP//////...   \n",
       "5   data:image/gif;base64,R0lGODlhAQABAIAAAP//////...   \n",
       "6   data:image/gif;base64,R0lGODlhAQABAIAAAP//////...   \n",
       "7   data:image/gif;base64,R0lGODlhAQABAIAAAP//////...   \n",
       "8   data:image/gif;base64,R0lGODlhAQABAIAAAP//////...   \n",
       "9   data:image/gif;base64,R0lGODlhAQABAIAAAP//////...   \n",
       "10  data:image/gif;base64,R0lGODlhAQABAIAAAP//////...   \n",
       "11  data:image/gif;base64,R0lGODlhAQABAIAAAP//////...   \n",
       "12  data:image/gif;base64,R0lGODlhAQABAIAAAP//////...   \n",
       "13  data:image/gif;base64,R0lGODlhAQABAIAAAP//////...   \n",
       "14  data:image/gif;base64,R0lGODlhAQABAIAAAP//////...   \n",
       "15  data:image/gif;base64,R0lGODlhAQABAIAAAP//////...   \n",
       "16  data:image/gif;base64,R0lGODlhAQABAIAAAP//////...   \n",
       "17  data:image/gif;base64,R0lGODlhAQABAIAAAP//////...   \n",
       "18  data:image/gif;base64,R0lGODlhAQABAIAAAP//////...   \n",
       "19  data:image/gif;base64,R0lGODlhAQABAIAAAP//////...   \n",
       "\n",
       "                                                  Car  \n",
       "0   data:image/jpeg;base64,/9j/4AAQSkZJRgABAQAAAQA...  \n",
       "1   data:image/jpeg;base64,/9j/4AAQSkZJRgABAQAAAQA...  \n",
       "2   data:image/jpeg;base64,/9j/4AAQSkZJRgABAQAAAQA...  \n",
       "3   data:image/jpeg;base64,/9j/4AAQSkZJRgABAQAAAQA...  \n",
       "4   data:image/jpeg;base64,/9j/4AAQSkZJRgABAQAAAQA...  \n",
       "5   data:image/jpeg;base64,/9j/4AAQSkZJRgABAQAAAQA...  \n",
       "6   data:image/jpeg;base64,/9j/4AAQSkZJRgABAQAAAQA...  \n",
       "7   data:image/jpeg;base64,/9j/4AAQSkZJRgABAQAAAQA...  \n",
       "8   data:image/jpeg;base64,/9j/4AAQSkZJRgABAQAAAQA...  \n",
       "9   data:image/png;base64,iVBORw0KGgoAAAANSUhEUgAA...  \n",
       "10  https://encrypted-tbn0.gstatic.com/images?q=tb...  \n",
       "11  https://encrypted-tbn0.gstatic.com/images?q=tb...  \n",
       "12  https://encrypted-tbn0.gstatic.com/images?q=tb...  \n",
       "13  https://encrypted-tbn0.gstatic.com/images?q=tb...  \n",
       "14  https://encrypted-tbn0.gstatic.com/images?q=tb...  \n",
       "15  https://encrypted-tbn0.gstatic.com/images?q=tb...  \n",
       "16  https://encrypted-tbn0.gstatic.com/images?q=tb...  \n",
       "17  https://encrypted-tbn0.gstatic.com/images?q=tb...  \n",
       "18  https://encrypted-tbn0.gstatic.com/images?q=tb...  \n",
       "19  https://encrypted-tbn0.gstatic.com/images?q=tb...  "
      ]
     },
     "execution_count": 43,
     "metadata": {},
     "output_type": "execute_result"
    }
   ],
   "source": [
    "df"
   ]
  },
  {
   "cell_type": "code",
   "execution_count": 44,
   "id": "17cd8571-072d-4fac-95b1-3d5f53dcddc8",
   "metadata": {
    "tags": []
   },
   "outputs": [],
   "source": [
    "import selenium\n",
    "from selenium import webdriver\n",
    "from selenium.webdriver.common.by import By\n",
    "import warnings\n",
    "warnings.filterwarnings('ignore')\n",
    "from bs4 import BeautifulSoup\n",
    "from selenium.common.exceptions import StaleElementReferenceException, NoSuchElementException\n",
    "import requests"
   ]
  },
  {
   "cell_type": "code",
   "execution_count": 45,
   "id": "b88a509c-4213-45d0-ba06-0b519159a777",
   "metadata": {
    "tags": []
   },
   "outputs": [],
   "source": [
    "driver= webdriver.Chrome()"
   ]
  },
  {
   "cell_type": "code",
   "execution_count": 46,
   "id": "3c5861e1-880c-45b0-b1dd-60b76508dd7f",
   "metadata": {
    "tags": []
   },
   "outputs": [],
   "source": [
    "driver.get('https://www.flipkart.com/')"
   ]
  },
  {
   "cell_type": "code",
   "execution_count": 47,
   "id": "434459b3-de4c-4adf-8dba-28aad6cc43a9",
   "metadata": {
    "tags": []
   },
   "outputs": [],
   "source": [
    "search= driver.find_element(By.XPATH,'/html/body/div[1]/div/div[1]/div/div/div/div/div[1]/div/div[1]/div/div[1]/div[1]/header/div[1]/div[2]/form/div/div/input')\n",
    "search.send_keys('iphone')"
   ]
  },
  {
   "cell_type": "code",
   "execution_count": 49,
   "id": "f93c09cc-a045-413a-be49-8fe84ac959f9",
   "metadata": {
    "tags": []
   },
   "outputs": [],
   "source": [
    "submit = driver.find_element(By.XPATH,'/html/body/div[1]/div/div[1]/div/div/div/div/div[1]/div/div[1]/div/div[1]/div[1]/header/div[1]/div[2]/form/div/button')\n",
    "submit.click()"
   ]
  },
  {
   "cell_type": "code",
   "execution_count": 50,
   "id": "ceea299b-2092-41c5-9e24-d4f1dba9011d",
   "metadata": {
    "tags": []
   },
   "outputs": [],
   "source": [
    "iphone_url=[]\n",
    "url=driver.find_elements(By.XPATH,'//div[@class=\"tUxRFH\"]/a')\n",
    "for i in url:\n",
    "    iphone_url.append(i.get_attribute('href'))"
   ]
  },
  {
   "cell_type": "code",
   "execution_count": 51,
   "id": "4dc3b1b7-aa5b-4a73-bb4e-124659f9d2a7",
   "metadata": {
    "tags": []
   },
   "outputs": [
    {
     "data": {
      "text/plain": [
       "24"
      ]
     },
     "execution_count": 51,
     "metadata": {},
     "output_type": "execute_result"
    }
   ],
   "source": [
    "len(iphone_url)"
   ]
  },
  {
   "cell_type": "code",
   "execution_count": 54,
   "id": "1f16a287-8a0e-4f63-bdde-4156635f39eb",
   "metadata": {
    "tags": []
   },
   "outputs": [
    {
     "ename": "AttributeError",
     "evalue": "'list' object has no attribute 'text'",
     "output_type": "error",
     "traceback": [
      "\u001b[1;31m---------------------------------------------------------------------------\u001b[0m",
      "\u001b[1;31mAttributeError\u001b[0m                            Traceback (most recent call last)",
      "Cell \u001b[1;32mIn[54], line 7\u001b[0m\n\u001b[0;32m      5\u001b[0m \u001b[38;5;28;01mtry\u001b[39;00m:\n\u001b[0;32m      6\u001b[0m     mod\u001b[38;5;241m=\u001b[39mdriver\u001b[38;5;241m.\u001b[39mfind_elements(By\u001b[38;5;241m.\u001b[39mXPATH,\u001b[38;5;124m'\u001b[39m\u001b[38;5;124m/html/body/div[1]/div/div[3]/div[1]/div[2]/div[10]/div[5]/div/div[2]/div[1]/div[1]/table/tbody/tr[1]/td[2]/ul\u001b[39m\u001b[38;5;124m'\u001b[39m)\n\u001b[1;32m----> 7\u001b[0m     model\u001b[38;5;241m.\u001b[39mappend(mod\u001b[38;5;241m.\u001b[39mtext)\n\u001b[0;32m      8\u001b[0m \u001b[38;5;28;01mexcept\u001b[39;00m NoSuchElementException:\n\u001b[0;32m      9\u001b[0m     model\u001b[38;5;241m.\u001b[39mappend(\u001b[38;5;124m'\u001b[39m\u001b[38;5;124m-\u001b[39m\u001b[38;5;124m'\u001b[39m)\n",
      "\u001b[1;31mAttributeError\u001b[0m: 'list' object has no attribute 'text'"
     ]
    }
   ],
   "source": [
    "model=[]\n",
    "for i in iphone_url:\n",
    "    driver.get(i)\n",
    "    time.sleep(5)\n",
    "    try:\n",
    "        mod=driver.find_elements(By.XPATH,'/html/body/div[1]/div/div[3]/div[1]/div[2]/div[10]/div[5]/div/div[2]/div[1]/div[1]/table/tbody/tr[1]/td[2]/ul')\n",
    "        model.append(mod.text)\n",
    "    except NoSuchElementException:\n",
    "        model.append('-')"
   ]
  },
  {
   "cell_type": "code",
   "execution_count": null,
   "id": "4b25cee6-018b-4c17-bb11-e0ac9d7b1bc4",
   "metadata": {},
   "outputs": [],
   "source": []
  },
  {
   "cell_type": "code",
   "execution_count": null,
   "id": "542f0624-8491-4c4c-a78f-b90dfdd2a462",
   "metadata": {},
   "outputs": [],
   "source": []
  },
  {
   "cell_type": "code",
   "execution_count": null,
   "id": "122af391-4f21-4d68-8754-bfafb00bb046",
   "metadata": {},
   "outputs": [],
   "source": []
  },
  {
   "cell_type": "code",
   "execution_count": null,
   "id": "8e70a8d0-a9fd-4e82-bf68-a44f515f560f",
   "metadata": {},
   "outputs": [],
   "source": []
  },
  {
   "cell_type": "code",
   "execution_count": null,
   "id": "7ab25787-6863-4e1d-ad84-6fb4e1aea99e",
   "metadata": {},
   "outputs": [],
   "source": []
  }
 ],
 "metadata": {
  "kernelspec": {
   "display_name": "Python 3 (ipykernel)",
   "language": "python",
   "name": "python3"
  },
  "language_info": {
   "codemirror_mode": {
    "name": "ipython",
    "version": 3
   },
   "file_extension": ".py",
   "mimetype": "text/x-python",
   "name": "python",
   "nbconvert_exporter": "python",
   "pygments_lexer": "ipython3",
   "version": "3.11.5"
  }
 },
 "nbformat": 4,
 "nbformat_minor": 5
}
