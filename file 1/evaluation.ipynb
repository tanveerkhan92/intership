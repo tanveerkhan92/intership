{
 "cells": [
  {
   "cell_type": "code",
   "execution_count": 24,
   "id": "4cf71e0d-518b-41c7-bfe4-368519c74b21",
   "metadata": {
    "tags": []
   },
   "outputs": [],
   "source": [
    "import selenium\n",
    "from selenium import webdriver\n",
    "from selenium.webdriver.common.by import By\n",
    "import warnings\n",
    "warnings.filterwarnings('ignore')\n",
    "import time\n",
    "import pandas as pd"
   ]
  },
  {
   "cell_type": "code",
   "execution_count": 4,
   "id": "9f1f3112-e269-4199-add2-a7ac80942f1c",
   "metadata": {
    "tags": []
   },
   "outputs": [],
   "source": [
    "driver= webdriver.Chrome()"
   ]
  },
  {
   "cell_type": "code",
   "execution_count": 5,
   "id": "23f34d38-14e6-4c46-912c-1ff56989f2d9",
   "metadata": {
    "tags": []
   },
   "outputs": [],
   "source": [
    "driver.get(\"https://www.naukri.com/\")"
   ]
  },
  {
   "cell_type": "code",
   "execution_count": 6,
   "id": "9ec185b8-5fc4-42e7-b339-d2791ae074c7",
   "metadata": {
    "tags": []
   },
   "outputs": [],
   "source": [
    "skill = driver.find_element(By.XPATH,'//div[@class=\"suggestor-box flex-row flex-wrap bottom \"]/input[1]')\n",
    "skill.send_keys(\"Data Scientist\")"
   ]
  },
  {
   "cell_type": "code",
   "execution_count": 7,
   "id": "86a65702-29b6-4480-9e2a-dac2f4af6711",
   "metadata": {
    "tags": []
   },
   "outputs": [],
   "source": [
    "submit = driver.find_element(By.CLASS_NAME,'qsbSubmit')\n",
    "submit.click()"
   ]
  },
  {
   "cell_type": "code",
   "execution_count": 10,
   "id": "aea99476-2096-44c1-8c91-d6f47e68e2fa",
   "metadata": {
    "tags": []
   },
   "outputs": [],
   "source": [
    "loc = driver.find_element(By.XPATH,'/html/body/div/div/main/div[1]/div[1]/div/div/div[2]/div[4]/div[2]/div[3]/label/i')\n",
    "loc.click()"
   ]
  },
  {
   "cell_type": "code",
   "execution_count": 11,
   "id": "5efac160-327d-4d7b-96f9-fe5dd3ee70de",
   "metadata": {
    "tags": []
   },
   "outputs": [],
   "source": [
    "sal = driver.find_element(By.XPATH,'/html/body/div/div/main/div[1]/div[1]/div/div/div[2]/div[4]/div[2]/div[2]/label/i')\n",
    "sal.click()"
   ]
  },
  {
   "cell_type": "code",
   "execution_count": 12,
   "id": "83134a7e-a902-44bf-a692-64dfba895ad3",
   "metadata": {
    "tags": []
   },
   "outputs": [],
   "source": [
    "job_title=[]\n",
    "job_loc=[]\n",
    "company_name=[]\n",
    "exp_req=[]"
   ]
  },
  {
   "cell_type": "code",
   "execution_count": 13,
   "id": "5619b8d1-0b3c-4d17-9e57-9bd08d45b422",
   "metadata": {
    "tags": []
   },
   "outputs": [],
   "source": [
    "title = driver.find_elements(By.XPATH,'//div[@class=\"cust-job-tuple layout-wrapper lay-2 sjw__tuple \"]/div/a')\n",
    "for i in title:\n",
    "    job_title.append(i.text)"
   ]
  },
  {
   "cell_type": "code",
   "execution_count": 23,
   "id": "6d5fb85f-08a3-4528-a1dd-28b2878d5d5d",
   "metadata": {
    "tags": []
   },
   "outputs": [],
   "source": [
    "loca = driver.find_elements(By.XPATH,'//span[@class=\"locWdth\"]')\n",
    "for i in loca:\n",
    "    job_loc.append(i.text)"
   ]
  },
  {
   "cell_type": "code",
   "execution_count": 15,
   "id": "557c1b66-49bf-43f1-8493-ca1776d02721",
   "metadata": {
    "tags": []
   },
   "outputs": [],
   "source": [
    "name = driver.find_elements(By.XPATH,'//span[@class=\" comp-dtls-wrap\"]/a[1]')\n",
    "for i in name:\n",
    "    company_name.append(i.text)"
   ]
  },
  {
   "cell_type": "code",
   "execution_count": 21,
   "id": "aa11bd1a-e440-4146-b7cd-ee01cc12885f",
   "metadata": {
    "tags": []
   },
   "outputs": [],
   "source": [
    "exp = driver.find_elements(By.XPATH,'//span[@class=\"expwdth\"]')\n",
    "for i in exp:\n",
    "    exp_req.append(i.text)"
   ]
  },
  {
   "cell_type": "code",
   "execution_count": 17,
   "id": "a16aa8fe-a345-420a-8acf-ca726cb4dc89",
   "metadata": {
    "tags": []
   },
   "outputs": [
    {
     "data": {
      "text/plain": [
       "20"
      ]
     },
     "execution_count": 17,
     "metadata": {},
     "output_type": "execute_result"
    }
   ],
   "source": [
    "len(job_title)"
   ]
  },
  {
   "cell_type": "code",
   "execution_count": 18,
   "id": "b48127b9-e9ee-453d-9566-c1f91a5bf1a8",
   "metadata": {
    "tags": []
   },
   "outputs": [
    {
     "data": {
      "text/plain": [
       "1"
      ]
     },
     "execution_count": 18,
     "metadata": {},
     "output_type": "execute_result"
    }
   ],
   "source": [
    "len(job_loc)"
   ]
  },
  {
   "cell_type": "code",
   "execution_count": 19,
   "id": "81cde955-71a7-48d5-83fa-4dcb6d28aefe",
   "metadata": {
    "tags": []
   },
   "outputs": [
    {
     "data": {
      "text/plain": [
       "20"
      ]
     },
     "execution_count": 19,
     "metadata": {},
     "output_type": "execute_result"
    }
   ],
   "source": [
    "len(company_name)"
   ]
  },
  {
   "cell_type": "code",
   "execution_count": 22,
   "id": "6007eefb-5c51-436c-ba86-0ea0a62f0927",
   "metadata": {
    "tags": []
   },
   "outputs": [
    {
     "data": {
      "text/plain": [
       "21"
      ]
     },
     "execution_count": 22,
     "metadata": {},
     "output_type": "execute_result"
    }
   ],
   "source": [
    "len(exp_req)"
   ]
  },
  {
   "cell_type": "code",
   "execution_count": 25,
   "id": "95c2b6d1-d9dc-44ef-982f-9729ba693149",
   "metadata": {
    "tags": []
   },
   "outputs": [],
   "source": [
    "df = pd.DataFrame({'Title':job_title[:10],'Location':job_loc[:10],'Name':company_name[:10],'Experience':exp_req[:10]})"
   ]
  },
  {
   "cell_type": "code",
   "execution_count": 26,
   "id": "dd28633a-082c-4ad0-a730-79560d4ee963",
   "metadata": {
    "tags": []
   },
   "outputs": [
    {
     "data": {
      "text/html": [
       "<div>\n",
       "<style scoped>\n",
       "    .dataframe tbody tr th:only-of-type {\n",
       "        vertical-align: middle;\n",
       "    }\n",
       "\n",
       "    .dataframe tbody tr th {\n",
       "        vertical-align: top;\n",
       "    }\n",
       "\n",
       "    .dataframe thead th {\n",
       "        text-align: right;\n",
       "    }\n",
       "</style>\n",
       "<table border=\"1\" class=\"dataframe\">\n",
       "  <thead>\n",
       "    <tr style=\"text-align: right;\">\n",
       "      <th></th>\n",
       "      <th>Title</th>\n",
       "      <th>Location</th>\n",
       "      <th>Name</th>\n",
       "      <th>Experience</th>\n",
       "    </tr>\n",
       "  </thead>\n",
       "  <tbody>\n",
       "    <tr>\n",
       "      <th>0</th>\n",
       "      <td>GCP Data Architecture and Modeling</td>\n",
       "      <td>Noida, Hyderabad, Pune</td>\n",
       "      <td>Tata Consultancy Services (TCS)</td>\n",
       "      <td>8-13 Yrs</td>\n",
       "    </tr>\n",
       "    <tr>\n",
       "      <th>1</th>\n",
       "      <td>Data Scientist</td>\n",
       "      <td>Noida, Hyderabad, Pune</td>\n",
       "      <td>Essenware</td>\n",
       "      <td>8-13 Yrs</td>\n",
       "    </tr>\n",
       "    <tr>\n",
       "      <th>2</th>\n",
       "      <td>Associate Data Scientist</td>\n",
       "      <td>Kolkata, Mumbai, New Delhi, Hyderabad, Pune, C...</td>\n",
       "      <td>Times Internet</td>\n",
       "      <td>2-5 Yrs</td>\n",
       "    </tr>\n",
       "    <tr>\n",
       "      <th>3</th>\n",
       "      <td>Data Scientist</td>\n",
       "      <td>Noida</td>\n",
       "      <td>Ericsson</td>\n",
       "      <td>2-3 Yrs</td>\n",
       "    </tr>\n",
       "    <tr>\n",
       "      <th>4</th>\n",
       "      <td>Python Data Scientist</td>\n",
       "      <td>Noida</td>\n",
       "      <td>Wizaltia Hr Solutions</td>\n",
       "      <td>3-7 Yrs</td>\n",
       "    </tr>\n",
       "    <tr>\n",
       "      <th>5</th>\n",
       "      <td>Data Scientist</td>\n",
       "      <td>Kolkata, Mumbai, New Delhi, Hyderabad, Pune, C...</td>\n",
       "      <td>Scienaptic Systems</td>\n",
       "      <td>2-7 Yrs</td>\n",
       "    </tr>\n",
       "    <tr>\n",
       "      <th>6</th>\n",
       "      <td>Data Scientist</td>\n",
       "      <td>Kolkata, Mumbai, New Delhi, Hyderabad, Pune, C...</td>\n",
       "      <td>Digital Glyde</td>\n",
       "      <td>2-7 Yrs</td>\n",
       "    </tr>\n",
       "    <tr>\n",
       "      <th>7</th>\n",
       "      <td>Lead Data Scientist</td>\n",
       "      <td>Kolkata, Mumbai, New Delhi, Hyderabad, Pune, C...</td>\n",
       "      <td>Elitefit.ai</td>\n",
       "      <td>3-7 Yrs</td>\n",
       "    </tr>\n",
       "    <tr>\n",
       "      <th>8</th>\n",
       "      <td>Data Scientist</td>\n",
       "      <td>Kolkata, Mumbai, New Delhi, Hyderabad, Pune, C...</td>\n",
       "      <td>Kashsam Data Solutions</td>\n",
       "      <td>3-7 Yrs</td>\n",
       "    </tr>\n",
       "    <tr>\n",
       "      <th>9</th>\n",
       "      <td>Data Scientist (Credit Risk)</td>\n",
       "      <td>Kolkata, Mumbai, New Delhi, Hyderabad, Pune, C...</td>\n",
       "      <td>PayU</td>\n",
       "      <td>3-7 Yrs</td>\n",
       "    </tr>\n",
       "  </tbody>\n",
       "</table>\n",
       "</div>"
      ],
      "text/plain": [
       "                                Title  \\\n",
       "0  GCP Data Architecture and Modeling   \n",
       "1                      Data Scientist   \n",
       "2            Associate Data Scientist   \n",
       "3                      Data Scientist   \n",
       "4               Python Data Scientist   \n",
       "5                      Data Scientist   \n",
       "6                      Data Scientist   \n",
       "7                 Lead Data Scientist   \n",
       "8                      Data Scientist   \n",
       "9        Data Scientist (Credit Risk)   \n",
       "\n",
       "                                            Location  \\\n",
       "0                             Noida, Hyderabad, Pune   \n",
       "1                             Noida, Hyderabad, Pune   \n",
       "2  Kolkata, Mumbai, New Delhi, Hyderabad, Pune, C...   \n",
       "3                                              Noida   \n",
       "4                                              Noida   \n",
       "5  Kolkata, Mumbai, New Delhi, Hyderabad, Pune, C...   \n",
       "6  Kolkata, Mumbai, New Delhi, Hyderabad, Pune, C...   \n",
       "7  Kolkata, Mumbai, New Delhi, Hyderabad, Pune, C...   \n",
       "8  Kolkata, Mumbai, New Delhi, Hyderabad, Pune, C...   \n",
       "9  Kolkata, Mumbai, New Delhi, Hyderabad, Pune, C...   \n",
       "\n",
       "                              Name Experience  \n",
       "0  Tata Consultancy Services (TCS)   8-13 Yrs  \n",
       "1                        Essenware   8-13 Yrs  \n",
       "2                   Times Internet    2-5 Yrs  \n",
       "3                         Ericsson    2-3 Yrs  \n",
       "4            Wizaltia Hr Solutions    3-7 Yrs  \n",
       "5               Scienaptic Systems    2-7 Yrs  \n",
       "6                    Digital Glyde    2-7 Yrs  \n",
       "7                      Elitefit.ai    3-7 Yrs  \n",
       "8           Kashsam Data Solutions    3-7 Yrs  \n",
       "9                             PayU    3-7 Yrs  "
      ]
     },
     "execution_count": 26,
     "metadata": {},
     "output_type": "execute_result"
    }
   ],
   "source": [
    "df"
   ]
  },
  {
   "cell_type": "markdown",
   "id": "f443e7c2-123f-41de-adbf-ddeda418d509",
   "metadata": {},
   "source": [
    "## Flipkart iphone review"
   ]
  },
  {
   "cell_type": "code",
   "execution_count": 39,
   "id": "8db5eff8-663e-40c2-9fe8-cfa79f7686a4",
   "metadata": {
    "tags": []
   },
   "outputs": [],
   "source": [
    "import selenium\n",
    "from selenium import webdriver\n",
    "from selenium.webdriver.common.by import By\n",
    "import warnings\n",
    "warnings.filterwarnings('ignore')\n",
    "import time\n",
    "import pandas as pd"
   ]
  },
  {
   "cell_type": "code",
   "execution_count": 40,
   "id": "76f2f7c8-1f89-483b-aa0a-e644397ee626",
   "metadata": {
    "tags": []
   },
   "outputs": [],
   "source": [
    "driver = webdriver.Chrome()"
   ]
  },
  {
   "cell_type": "code",
   "execution_count": 41,
   "id": "c76ef8ba-7e39-4771-91d5-17a645a43317",
   "metadata": {
    "tags": []
   },
   "outputs": [],
   "source": [
    "driver.get('https://www.flipkart.com/apple-iphone-11-black-64-gb/product-reviews/itm4e5041ba101fd?pid=MOBFWQ6BXGJCEYNY&lid=LSTMOBFWQ6BXGJCEYNYZXSHRJ&marketplace=FLIPKART')"
   ]
  },
  {
   "cell_type": "code",
   "execution_count": 42,
   "id": "9df45e72-27e4-4be1-aa4d-a87c655112d9",
   "metadata": {
    "tags": []
   },
   "outputs": [],
   "source": [
    "rating=[]\n",
    "rev_sum=[]\n",
    "full_rev=[]"
   ]
  },
  {
   "cell_type": "code",
   "execution_count": 43,
   "id": "d4bbc214-9ac8-4741-b88f-80a7b71efbdf",
   "metadata": {
    "tags": []
   },
   "outputs": [],
   "source": [
    "for page in range(0,11):\n",
    "    rate = driver.find_elements(By.XPATH,'//div[@class=\"XQDdHH Ga3i8K\"]')\n",
    "    for i in rate:\n",
    "        rating.append(i.text)\n",
    "    next_button= driver.find_element(By.CLASS_NAME,'_9QVEpD')\n",
    "    next_button.click()\n",
    "    time.sleep(3)"
   ]
  },
  {
   "cell_type": "code",
   "execution_count": 45,
   "id": "fc8757d0-ce8e-48f7-8681-5416ea836bc6",
   "metadata": {
    "tags": []
   },
   "outputs": [],
   "source": [
    "for page in range(0,11):\n",
    "    rev= driver.find_elements(By.XPATH,'//p[@class=\"z9E0IG\"]')\n",
    "    for i in rev:\n",
    "        rev_sum.append(i.text)\n",
    "    next_button= driver.find_element(By.CLASS_NAME,'_9QVEpD')\n",
    "    next_button.click()\n",
    "    time.sleep(3)"
   ]
  },
  {
   "cell_type": "code",
   "execution_count": 46,
   "id": "8e6894a5-e898-4176-acf1-2eaf791d89de",
   "metadata": {
    "tags": []
   },
   "outputs": [],
   "source": [
    "for page in range(0,11):\n",
    "    full= driver.find_elements(By.XPATH,'/html/body/div/div/div[3]/div/div[1]/div[2]/div[3]/div/div/div/div[2]/div/div/div')\n",
    "    for i in full:\n",
    "        full_rev.append(i.text)\n",
    "    next_button = driver.find_element(By.CLASS_NAME,'_9QVEpD')\n",
    "    next_button.click()\n",
    "    time.sleep(3)"
   ]
  },
  {
   "cell_type": "code",
   "execution_count": 47,
   "id": "d6ddddd0-58d4-4f09-b99d-b176fc593175",
   "metadata": {
    "tags": []
   },
   "outputs": [
    {
     "data": {
      "text/plain": [
       "11"
      ]
     },
     "execution_count": 47,
     "metadata": {},
     "output_type": "execute_result"
    }
   ],
   "source": [
    "len(full_rev)"
   ]
  },
  {
   "cell_type": "code",
   "execution_count": 48,
   "id": "88195778-5854-4715-9ad0-3df1c31ef526",
   "metadata": {
    "tags": []
   },
   "outputs": [
    {
     "data": {
      "text/plain": [
       "130"
      ]
     },
     "execution_count": 48,
     "metadata": {},
     "output_type": "execute_result"
    }
   ],
   "source": [
    "len(rev_sum)"
   ]
  },
  {
   "cell_type": "code",
   "execution_count": 49,
   "id": "5f0aefef-5e1c-4e96-aff7-35be732d922b",
   "metadata": {
    "tags": []
   },
   "outputs": [
    {
     "data": {
      "text/plain": [
       "110"
      ]
     },
     "execution_count": 49,
     "metadata": {},
     "output_type": "execute_result"
    }
   ],
   "source": [
    "len(rating)"
   ]
  },
  {
   "cell_type": "code",
   "execution_count": 51,
   "id": "8b410221-feeb-4775-a550-528e9ca1e959",
   "metadata": {
    "tags": []
   },
   "outputs": [],
   "source": [
    "df = pd.DataFrame({'Rating':rating[:100],'Review':rev_sum[:100]})"
   ]
  },
  {
   "cell_type": "code",
   "execution_count": 52,
   "id": "8a4a9c58-e12c-4a41-9c6b-225846257770",
   "metadata": {
    "tags": []
   },
   "outputs": [
    {
     "data": {
      "text/html": [
       "<div>\n",
       "<style scoped>\n",
       "    .dataframe tbody tr th:only-of-type {\n",
       "        vertical-align: middle;\n",
       "    }\n",
       "\n",
       "    .dataframe tbody tr th {\n",
       "        vertical-align: top;\n",
       "    }\n",
       "\n",
       "    .dataframe thead th {\n",
       "        text-align: right;\n",
       "    }\n",
       "</style>\n",
       "<table border=\"1\" class=\"dataframe\">\n",
       "  <thead>\n",
       "    <tr style=\"text-align: right;\">\n",
       "      <th></th>\n",
       "      <th>Rating</th>\n",
       "      <th>Review</th>\n",
       "    </tr>\n",
       "  </thead>\n",
       "  <tbody>\n",
       "    <tr>\n",
       "      <th>0</th>\n",
       "      <td>5</td>\n",
       "      <td>Best in the market!</td>\n",
       "    </tr>\n",
       "    <tr>\n",
       "      <th>1</th>\n",
       "      <td>5</td>\n",
       "      <td>Classy product</td>\n",
       "    </tr>\n",
       "    <tr>\n",
       "      <th>2</th>\n",
       "      <td>5</td>\n",
       "      <td>Worth every penny</td>\n",
       "    </tr>\n",
       "    <tr>\n",
       "      <th>3</th>\n",
       "      <td>5</td>\n",
       "      <td>Just wow!</td>\n",
       "    </tr>\n",
       "    <tr>\n",
       "      <th>4</th>\n",
       "      <td>5</td>\n",
       "      <td>Wonderful</td>\n",
       "    </tr>\n",
       "    <tr>\n",
       "      <th>...</th>\n",
       "      <td>...</td>\n",
       "      <td>...</td>\n",
       "    </tr>\n",
       "    <tr>\n",
       "      <th>95</th>\n",
       "      <td>5</td>\n",
       "      <td>Highly recommended</td>\n",
       "    </tr>\n",
       "    <tr>\n",
       "      <th>96</th>\n",
       "      <td>5</td>\n",
       "      <td>Brilliant</td>\n",
       "    </tr>\n",
       "    <tr>\n",
       "      <th>97</th>\n",
       "      <td>5</td>\n",
       "      <td>Must buy!</td>\n",
       "    </tr>\n",
       "    <tr>\n",
       "      <th>98</th>\n",
       "      <td>5</td>\n",
       "      <td>Best in the market!</td>\n",
       "    </tr>\n",
       "    <tr>\n",
       "      <th>99</th>\n",
       "      <td>5</td>\n",
       "      <td>Excellent</td>\n",
       "    </tr>\n",
       "  </tbody>\n",
       "</table>\n",
       "<p>100 rows × 2 columns</p>\n",
       "</div>"
      ],
      "text/plain": [
       "   Rating               Review\n",
       "0       5  Best in the market!\n",
       "1       5       Classy product\n",
       "2       5    Worth every penny\n",
       "3       5            Just wow!\n",
       "4       5            Wonderful\n",
       "..    ...                  ...\n",
       "95      5   Highly recommended\n",
       "96      5            Brilliant\n",
       "97      5            Must buy!\n",
       "98      5  Best in the market!\n",
       "99      5            Excellent\n",
       "\n",
       "[100 rows x 2 columns]"
      ]
     },
     "execution_count": 52,
     "metadata": {},
     "output_type": "execute_result"
    }
   ],
   "source": [
    "df"
   ]
  },
  {
   "cell_type": "markdown",
   "id": "9a750bfd-3d65-4368-a8a8-711af5752bdf",
   "metadata": {},
   "source": [
    "## Sneakers & Flipkart"
   ]
  },
  {
   "cell_type": "code",
   "execution_count": 54,
   "id": "d51a1c39-8716-4636-b6fd-8eae821e9df4",
   "metadata": {
    "tags": []
   },
   "outputs": [],
   "source": [
    "import selenium\n",
    "from selenium import webdriver\n",
    "from selenium.webdriver.common.by import By\n",
    "import warnings\n",
    "warnings.filterwarnings('ignore')\n",
    "import time\n",
    "import pandas as pd"
   ]
  },
  {
   "cell_type": "code",
   "execution_count": 55,
   "id": "da15669b-0fe3-4885-9fdd-9af8d8d9f26c",
   "metadata": {
    "tags": []
   },
   "outputs": [],
   "source": [
    "driver = webdriver.Chrome()"
   ]
  },
  {
   "cell_type": "code",
   "execution_count": 56,
   "id": "270363f6-1188-41c5-828e-3e21c1d4153a",
   "metadata": {
    "tags": []
   },
   "outputs": [],
   "source": [
    "driver.get('https://www.flipkart.com/')"
   ]
  },
  {
   "cell_type": "code",
   "execution_count": 57,
   "id": "d8aac7b6-8514-4533-bfd0-0afd908c5d7d",
   "metadata": {
    "tags": []
   },
   "outputs": [],
   "source": [
    "sneaker = driver.find_element(By.XPATH,'/html/body/div[1]/div/div[1]/div/div/div/div/div[1]/div/div[1]/div/div[1]/div[1]/header/div[1]/div[2]/form/div/div/input')\n",
    "sneaker.send_keys('sneakers')"
   ]
  },
  {
   "cell_type": "code",
   "execution_count": 58,
   "id": "94b6257c-ab89-4cb3-b896-edfaa03fac9f",
   "metadata": {
    "tags": []
   },
   "outputs": [],
   "source": [
    "submit = driver.find_element(By.XPATH,'/html/body/div[1]/div/div[1]/div/div/div/div/div[1]/div/div[1]/div/div[1]/div[1]/header/div[1]/div[2]/form/div/button')\n",
    "submit.click()"
   ]
  },
  {
   "cell_type": "code",
   "execution_count": 59,
   "id": "11a97134-71f2-478e-808b-4c99c4cbd80c",
   "metadata": {
    "tags": []
   },
   "outputs": [],
   "source": [
    "brand=[]\n",
    "desc=[]\n",
    "price=[]"
   ]
  },
  {
   "cell_type": "code",
   "execution_count": 61,
   "id": "58ec908e-ff62-41d4-a0fd-161e08af18dc",
   "metadata": {
    "tags": []
   },
   "outputs": [],
   "source": [
    "for page in range(0,3):\n",
    "    detail = driver.find_elements(By.XPATH,'//div[@class=\"syl9yP\"]')\n",
    "    for i in detail:\n",
    "        brand.append(i.text)\n",
    "    button= driver.find_element(By.CLASS_NAME,'_9QVEpD')\n",
    "    button.click()\n",
    "    time.sleep(3)"
   ]
  },
  {
   "cell_type": "code",
   "execution_count": 63,
   "id": "5173b67b-59b4-42c7-9afe-15a767294a6c",
   "metadata": {
    "tags": []
   },
   "outputs": [],
   "source": [
    "for page in range(0,3):\n",
    "    des= driver.find_elements(By.XPATH,'//a[@class=\"WKTcLC BwBZTg\" or @class=\"WKTcLC\" ]')\n",
    "    for i in des:\n",
    "        desc.append(i.text)\n",
    "    button=driver.find_element(By.CLASS_NAME,'_9QVEpD')\n",
    "    button.click()\n",
    "    time.sleep(3)"
   ]
  },
  {
   "cell_type": "code",
   "execution_count": 64,
   "id": "f77d54ca-a00e-4b5e-9e48-bc374244409b",
   "metadata": {
    "tags": []
   },
   "outputs": [],
   "source": [
    "for page in range(0,3):\n",
    "    pr= driver.find_elements(By.XPATH,'//div[@class=\"Nx9bqj\"]')\n",
    "    for i in pr:\n",
    "        price.append(i.text)\n",
    "    button= driver.find_element(By.CLASS_NAME,'_9QVEpD')\n",
    "    button.click()\n",
    "    time.sleep(3)"
   ]
  },
  {
   "cell_type": "code",
   "execution_count": 65,
   "id": "5716b95a-db58-4b9f-8e45-fd357968978e",
   "metadata": {
    "tags": []
   },
   "outputs": [
    {
     "data": {
      "text/plain": [
       "120"
      ]
     },
     "execution_count": 65,
     "metadata": {},
     "output_type": "execute_result"
    }
   ],
   "source": [
    "len(brand)"
   ]
  },
  {
   "cell_type": "code",
   "execution_count": 66,
   "id": "4a532879-8c3b-4ff4-9db0-39ed3588386a",
   "metadata": {
    "tags": []
   },
   "outputs": [
    {
     "data": {
      "text/plain": [
       "240"
      ]
     },
     "execution_count": 66,
     "metadata": {},
     "output_type": "execute_result"
    }
   ],
   "source": [
    "len(desc)"
   ]
  },
  {
   "cell_type": "code",
   "execution_count": 67,
   "id": "7548965d-b045-4541-8e8a-a4535ffe79df",
   "metadata": {
    "tags": []
   },
   "outputs": [
    {
     "data": {
      "text/plain": [
       "120"
      ]
     },
     "execution_count": 67,
     "metadata": {},
     "output_type": "execute_result"
    }
   ],
   "source": [
    "len(price)"
   ]
  },
  {
   "cell_type": "code",
   "execution_count": 68,
   "id": "10729bea-4385-4de6-a751-f0c67e2026f3",
   "metadata": {
    "tags": []
   },
   "outputs": [],
   "source": [
    "df=pd.DataFrame({'Brand':brand[:100],'Description':desc[:100],'Price':price[:100]})"
   ]
  },
  {
   "cell_type": "code",
   "execution_count": 69,
   "id": "e16d4cbd-a146-490e-bec3-5319bb81a4cf",
   "metadata": {
    "tags": []
   },
   "outputs": [
    {
     "data": {
      "text/html": [
       "<div>\n",
       "<style scoped>\n",
       "    .dataframe tbody tr th:only-of-type {\n",
       "        vertical-align: middle;\n",
       "    }\n",
       "\n",
       "    .dataframe tbody tr th {\n",
       "        vertical-align: top;\n",
       "    }\n",
       "\n",
       "    .dataframe thead th {\n",
       "        text-align: right;\n",
       "    }\n",
       "</style>\n",
       "<table border=\"1\" class=\"dataframe\">\n",
       "  <thead>\n",
       "    <tr style=\"text-align: right;\">\n",
       "      <th></th>\n",
       "      <th>Brand</th>\n",
       "      <th>Description</th>\n",
       "      <th>Price</th>\n",
       "    </tr>\n",
       "  </thead>\n",
       "  <tbody>\n",
       "    <tr>\n",
       "      <th>0</th>\n",
       "      <td>BRUTON</td>\n",
       "      <td>Combo Pack Of 2 Casual Shoes Sneakers For Men</td>\n",
       "      <td>₹699</td>\n",
       "    </tr>\n",
       "    <tr>\n",
       "      <th>1</th>\n",
       "      <td>Aeonik</td>\n",
       "      <td>OGIY RETRO SHOES HIGH PREMIUM QUALITY Sneakers...</td>\n",
       "      <td>₹6,079</td>\n",
       "    </tr>\n",
       "    <tr>\n",
       "      <th>2</th>\n",
       "      <td>URBANBOX</td>\n",
       "      <td>Trending Stylish Casual Outdoor Shoes Sneakers...</td>\n",
       "      <td>₹1,179</td>\n",
       "    </tr>\n",
       "    <tr>\n",
       "      <th>3</th>\n",
       "      <td>Red Tape</td>\n",
       "      <td>Casual Sneaker Shoes for Men | Classic Rounded...</td>\n",
       "      <td>₹799</td>\n",
       "    </tr>\n",
       "    <tr>\n",
       "      <th>4</th>\n",
       "      <td>Red Tape</td>\n",
       "      <td>Casual Sneaker Shoes For Men | Stylish and Com...</td>\n",
       "      <td>₹1,679</td>\n",
       "    </tr>\n",
       "    <tr>\n",
       "      <th>...</th>\n",
       "      <td>...</td>\n",
       "      <td>...</td>\n",
       "      <td>...</td>\n",
       "    </tr>\n",
       "    <tr>\n",
       "      <th>95</th>\n",
       "      <td>Red Tape</td>\n",
       "      <td>Stylish Men's Half Back Open Backless Footwear...</td>\n",
       "      <td>₹699</td>\n",
       "    </tr>\n",
       "    <tr>\n",
       "      <th>96</th>\n",
       "      <td>Aeonik</td>\n",
       "      <td>Combo Pack of 2 Trendy &amp; Stylish Casual Shoes ...</td>\n",
       "      <td>₹1,577</td>\n",
       "    </tr>\n",
       "    <tr>\n",
       "      <th>97</th>\n",
       "      <td>BRUTON</td>\n",
       "      <td>Combo Pack Of 2 Casual Shoes Sneakers For Men</td>\n",
       "      <td>₹1,349</td>\n",
       "    </tr>\n",
       "    <tr>\n",
       "      <th>98</th>\n",
       "      <td>Red Tape</td>\n",
       "      <td>Lifestyle Sneaker Shoes for Men | Soft Cushion...</td>\n",
       "      <td>₹999</td>\n",
       "    </tr>\n",
       "    <tr>\n",
       "      <th>99</th>\n",
       "      <td>Vellinto</td>\n",
       "      <td>Sneakers For Men</td>\n",
       "      <td>₹1,169</td>\n",
       "    </tr>\n",
       "  </tbody>\n",
       "</table>\n",
       "<p>100 rows × 3 columns</p>\n",
       "</div>"
      ],
      "text/plain": [
       "       Brand                                        Description   Price\n",
       "0     BRUTON      Combo Pack Of 2 Casual Shoes Sneakers For Men    ₹699\n",
       "1     Aeonik  OGIY RETRO SHOES HIGH PREMIUM QUALITY Sneakers...  ₹6,079\n",
       "2   URBANBOX  Trending Stylish Casual Outdoor Shoes Sneakers...  ₹1,179\n",
       "3   Red Tape  Casual Sneaker Shoes for Men | Classic Rounded...    ₹799\n",
       "4   Red Tape  Casual Sneaker Shoes For Men | Stylish and Com...  ₹1,679\n",
       "..       ...                                                ...     ...\n",
       "95  Red Tape  Stylish Men's Half Back Open Backless Footwear...    ₹699\n",
       "96    Aeonik  Combo Pack of 2 Trendy & Stylish Casual Shoes ...  ₹1,577\n",
       "97    BRUTON      Combo Pack Of 2 Casual Shoes Sneakers For Men  ₹1,349\n",
       "98  Red Tape  Lifestyle Sneaker Shoes for Men | Soft Cushion...    ₹999\n",
       "99  Vellinto                                   Sneakers For Men  ₹1,169\n",
       "\n",
       "[100 rows x 3 columns]"
      ]
     },
     "execution_count": 69,
     "metadata": {},
     "output_type": "execute_result"
    }
   ],
   "source": [
    "df"
   ]
  },
  {
   "cell_type": "markdown",
   "id": "e9522ed8-7b7c-429b-802e-b8c60104aeda",
   "metadata": {},
   "source": [
    "## Amazon India with laptop search"
   ]
  },
  {
   "cell_type": "code",
   "execution_count": 70,
   "id": "a91632a2-86f7-41b3-820f-1a11ebef55ff",
   "metadata": {
    "tags": []
   },
   "outputs": [],
   "source": [
    "import selenium\n",
    "from selenium import webdriver\n",
    "from selenium.webdriver.common.by import By\n",
    "import warnings\n",
    "warnings.filterwarnings('ignore')\n",
    "import time\n",
    "import pandas as pd\n"
   ]
  },
  {
   "cell_type": "code",
   "execution_count": 71,
   "id": "dfb74f1f-71b0-4aa2-8add-d23e3b438336",
   "metadata": {
    "tags": []
   },
   "outputs": [],
   "source": [
    "driver = webdriver.Chrome()"
   ]
  },
  {
   "cell_type": "code",
   "execution_count": 72,
   "id": "4ad18f72-4de2-4a34-886d-91582205f103",
   "metadata": {
    "tags": []
   },
   "outputs": [],
   "source": [
    "driver.get(\"https://www.amazon.in/\")"
   ]
  },
  {
   "cell_type": "code",
   "execution_count": 73,
   "id": "9f023917-7599-4424-af93-a2b3fd82b43a",
   "metadata": {
    "tags": []
   },
   "outputs": [],
   "source": [
    "search = driver.find_element(By.XPATH,'/html/body/div[1]/header/div/div[1]/div[2]/div/form/div[2]/div[1]/input')\n",
    "search.send_keys('Laptop')"
   ]
  },
  {
   "cell_type": "code",
   "execution_count": 74,
   "id": "70b5ba4e-cde3-4d27-93a0-f2b94bfc611a",
   "metadata": {
    "tags": []
   },
   "outputs": [],
   "source": [
    "submit = driver.find_element(By.XPATH,'/html/body/div[1]/header/div/div[1]/div[2]/div/form/div[3]/div/span/input')\n",
    "submit.click()"
   ]
  },
  {
   "cell_type": "code",
   "execution_count": 76,
   "id": "2359d339-0ae7-4f4c-9301-1ac7b955d519",
   "metadata": {
    "tags": []
   },
   "outputs": [],
   "source": [
    "intel= driver.find_element(By.XPATH,'/html/body/div[1]/div[1]/div[1]/div[2]/div/div[3]/span/div[1]/div/div/div[6]/ul[20]/span/span[10]/li/span/a/div/label/i')\n",
    "intel.click()"
   ]
  },
  {
   "cell_type": "code",
   "execution_count": 77,
   "id": "bf6ceae1-1d99-49ce-a5ec-e8b475a7041a",
   "metadata": {
    "tags": []
   },
   "outputs": [],
   "source": [
    "title=[]\n",
    "rating=[]\n",
    "price=[]"
   ]
  },
  {
   "cell_type": "code",
   "execution_count": 78,
   "id": "9beb02cb-b9e3-437c-ad9d-51ec628c2391",
   "metadata": {
    "tags": []
   },
   "outputs": [],
   "source": [
    "titl=driver.find_elements(By.XPATH,'//div[@class=\"a-section a-spacing-none puis-padding-right-small s-title-instructions-style\"]')\n",
    "for i in titl:\n",
    "    title.append(i.text)"
   ]
  },
  {
   "cell_type": "code",
   "execution_count": 86,
   "id": "e9c28a07-89f8-42d9-8399-082647fb8f78",
   "metadata": {
    "tags": []
   },
   "outputs": [],
   "source": [
    "rate= driver.find_elements(By.XPATH,'//span[@class=\"a-icon-alt\"]')\n",
    "for i in rate:\n",
    "    rating.append(i.text)"
   ]
  },
  {
   "cell_type": "code",
   "execution_count": 80,
   "id": "5fcca7e3-7d95-40b7-951e-4a305ed11b7b",
   "metadata": {
    "tags": []
   },
   "outputs": [],
   "source": [
    "pr=driver.find_elements(By.XPATH,'//span[@class=\"a-price-whole\"]')\n",
    "for i in pr:\n",
    "    price.append(i.text)"
   ]
  },
  {
   "cell_type": "code",
   "execution_count": 81,
   "id": "d9acc050-937b-478e-9e37-72cb691e7f46",
   "metadata": {
    "tags": []
   },
   "outputs": [
    {
     "data": {
      "text/plain": [
       "24"
      ]
     },
     "execution_count": 81,
     "metadata": {},
     "output_type": "execute_result"
    }
   ],
   "source": [
    "len(title)"
   ]
  },
  {
   "cell_type": "code",
   "execution_count": 82,
   "id": "3b43ad61-41f0-4f12-9326-9e48319b6b57",
   "metadata": {
    "tags": []
   },
   "outputs": [
    {
     "data": {
      "text/plain": [
       "23"
      ]
     },
     "execution_count": 82,
     "metadata": {},
     "output_type": "execute_result"
    }
   ],
   "source": [
    "len(rating)"
   ]
  },
  {
   "cell_type": "code",
   "execution_count": 83,
   "id": "2956a7b1-a4bc-4ca0-a82a-b80e7fa56cbb",
   "metadata": {
    "tags": []
   },
   "outputs": [
    {
     "data": {
      "text/plain": [
       "24"
      ]
     },
     "execution_count": 83,
     "metadata": {},
     "output_type": "execute_result"
    }
   ],
   "source": [
    "len(price)"
   ]
  },
  {
   "cell_type": "code",
   "execution_count": 87,
   "id": "6bb404fe-657e-44c2-a7f0-dc46678d2a59",
   "metadata": {
    "tags": []
   },
   "outputs": [],
   "source": [
    "df=pd.DataFrame({'Title':title[:10],'Rating':rating[:10],'Price':price[:10]})"
   ]
  },
  {
   "cell_type": "code",
   "execution_count": 88,
   "id": "9040f2a4-a89e-4c72-bdcc-bb86b47b6365",
   "metadata": {
    "tags": []
   },
   "outputs": [
    {
     "data": {
      "text/html": [
       "<div>\n",
       "<style scoped>\n",
       "    .dataframe tbody tr th:only-of-type {\n",
       "        vertical-align: middle;\n",
       "    }\n",
       "\n",
       "    .dataframe tbody tr th {\n",
       "        vertical-align: top;\n",
       "    }\n",
       "\n",
       "    .dataframe thead th {\n",
       "        text-align: right;\n",
       "    }\n",
       "</style>\n",
       "<table border=\"1\" class=\"dataframe\">\n",
       "  <thead>\n",
       "    <tr style=\"text-align: right;\">\n",
       "      <th></th>\n",
       "      <th>Title</th>\n",
       "      <th>Rating</th>\n",
       "      <th>Price</th>\n",
       "    </tr>\n",
       "  </thead>\n",
       "  <tbody>\n",
       "    <tr>\n",
       "      <th>0</th>\n",
       "      <td>Acer Aspire Lite 12th Gen Intel Core i7-1255U ...</td>\n",
       "      <td>403</td>\n",
       "      <td>52,999</td>\n",
       "    </tr>\n",
       "    <tr>\n",
       "      <th>1</th>\n",
       "      <td>MSI Modern 14, Intel 12th Gen. i7-1255U, 36CM ...</td>\n",
       "      <td>121</td>\n",
       "      <td>49,790</td>\n",
       "    </tr>\n",
       "    <tr>\n",
       "      <th>2</th>\n",
       "      <td>HP Pavilion 14 12th Gen Intel Core i7 16GB SDR...</td>\n",
       "      <td>707</td>\n",
       "      <td>78,990</td>\n",
       "    </tr>\n",
       "    <tr>\n",
       "      <th>3</th>\n",
       "      <td>Lenovo IdeaPad Slim 3 Intel Core i7 12th Gen 1...</td>\n",
       "      <td>507</td>\n",
       "      <td>62,933</td>\n",
       "    </tr>\n",
       "    <tr>\n",
       "      <th>4</th>\n",
       "      <td>HP Laptop 15s, 12th Gen Intel Core i7-1255U, 1...</td>\n",
       "      <td>62</td>\n",
       "      <td>64,490</td>\n",
       "    </tr>\n",
       "    <tr>\n",
       "      <th>5</th>\n",
       "      <td>ASUS [Smartchoice] Vivobook 15, Intel Core i7-...</td>\n",
       "      <td>260</td>\n",
       "      <td>61,990</td>\n",
       "    </tr>\n",
       "    <tr>\n",
       "      <th>6</th>\n",
       "      <td>HP Victus Windows 11 Home Gaming Laptop,12Th G...</td>\n",
       "      <td>424</td>\n",
       "      <td>77,490</td>\n",
       "    </tr>\n",
       "    <tr>\n",
       "      <th>7</th>\n",
       "      <td>Samsung Galaxy Book3 Core i7 13th Gen 1355U - ...</td>\n",
       "      <td>114</td>\n",
       "      <td>70,990</td>\n",
       "    </tr>\n",
       "    <tr>\n",
       "      <th>8</th>\n",
       "      <td>Acer Travelmate Business Laptop Intel Core i7-...</td>\n",
       "      <td>38</td>\n",
       "      <td>47,990</td>\n",
       "    </tr>\n",
       "    <tr>\n",
       "      <th>9</th>\n",
       "      <td>Dell Inspiron 3530 Laptop, 13th Generation Int...</td>\n",
       "      <td>10</td>\n",
       "      <td>70,890</td>\n",
       "    </tr>\n",
       "  </tbody>\n",
       "</table>\n",
       "</div>"
      ],
      "text/plain": [
       "                                               Title Rating   Price\n",
       "0  Acer Aspire Lite 12th Gen Intel Core i7-1255U ...    403  52,999\n",
       "1  MSI Modern 14, Intel 12th Gen. i7-1255U, 36CM ...    121  49,790\n",
       "2  HP Pavilion 14 12th Gen Intel Core i7 16GB SDR...    707  78,990\n",
       "3  Lenovo IdeaPad Slim 3 Intel Core i7 12th Gen 1...    507  62,933\n",
       "4  HP Laptop 15s, 12th Gen Intel Core i7-1255U, 1...     62  64,490\n",
       "5  ASUS [Smartchoice] Vivobook 15, Intel Core i7-...    260  61,990\n",
       "6  HP Victus Windows 11 Home Gaming Laptop,12Th G...    424  77,490\n",
       "7  Samsung Galaxy Book3 Core i7 13th Gen 1355U - ...    114  70,990\n",
       "8  Acer Travelmate Business Laptop Intel Core i7-...     38  47,990\n",
       "9  Dell Inspiron 3530 Laptop, 13th Generation Int...     10  70,890"
      ]
     },
     "execution_count": 88,
     "metadata": {},
     "output_type": "execute_result"
    }
   ],
   "source": [
    "df"
   ]
  },
  {
   "cell_type": "code",
   "execution_count": null,
   "id": "54357395-da83-49a1-9b3f-e23de7318157",
   "metadata": {},
   "outputs": [],
   "source": []
  }
 ],
 "metadata": {
  "kernelspec": {
   "display_name": "Python 3 (ipykernel)",
   "language": "python",
   "name": "python3"
  },
  "language_info": {
   "codemirror_mode": {
    "name": "ipython",
    "version": 3
   },
   "file_extension": ".py",
   "mimetype": "text/x-python",
   "name": "python",
   "nbconvert_exporter": "python",
   "pygments_lexer": "ipython3",
   "version": "3.11.5"
  }
 },
 "nbformat": 4,
 "nbformat_minor": 5
}
